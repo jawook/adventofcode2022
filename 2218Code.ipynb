{
 "cells": [
  {
   "cell_type": "markdown",
   "id": "13f824cb",
   "metadata": {},
   "source": [
    "# This cell is auto-generated."
   ]
  },
  {
   "cell_type": "code",
   "execution_count": 171,
   "id": "e9d37f14",
   "metadata": {},
   "outputs": [
    {
     "name": "stdout",
     "output_type": "stream",
     "text": [
      "Which data set do you want to use? 1 = Test, 2 = Input 2\n"
     ]
    }
   ],
   "source": [
    "data = 0\n",
    "while data not in [1, 2]:\n",
    "    data = int(input('Which data set do you want to use? 1 = Test, 2 = Input '))\n",
    "\n",
    "if data == 1:\n",
    "    fp = 'Test/'\n",
    "    fn = '2218test.txt'\n",
    "elif data == 2:\n",
    "    fp = 'Input/'\n",
    "    fn = '2218input.txt'\n",
    "\n",
    "f = open(fp + fn, 'r')\n",
    "raw = [j for j in f.read().splitlines()]"
   ]
  },
  {
   "cell_type": "code",
   "execution_count": 172,
   "id": "ab0fd1f7",
   "metadata": {},
   "outputs": [],
   "source": [
    "nums = []\n",
    "for r in raw:\n",
    "    rSpl = r.split(',')\n",
    "    nums.append([int(i) for i in rSpl])"
   ]
  },
  {
   "cell_type": "code",
   "execution_count": 173,
   "id": "eefc6a2b",
   "metadata": {},
   "outputs": [],
   "source": [
    "import numpy as np\n",
    "nums = np.array(nums)"
   ]
  },
  {
   "cell_type": "code",
   "execution_count": 174,
   "id": "9df2c39f",
   "metadata": {},
   "outputs": [],
   "source": [
    "mp = np.zeros((max(nums[:,0])+1, max(nums[:,1])+1, max(nums[:,2])+1), dtype=int)"
   ]
  },
  {
   "cell_type": "code",
   "execution_count": 175,
   "id": "b8809a92",
   "metadata": {},
   "outputs": [],
   "source": [
    "for n in nums:\n",
    "    mp[n[0], n[1], n[2]] = 1"
   ]
  },
  {
   "cell_type": "code",
   "execution_count": 176,
   "id": "f7a5995d",
   "metadata": {},
   "outputs": [],
   "source": [
    "from scipy.ndimage import convolve"
   ]
  },
  {
   "cell_type": "code",
   "execution_count": 177,
   "id": "0e61c410",
   "metadata": {},
   "outputs": [],
   "source": [
    "def countFaces(mp):\n",
    "    k = [[[0,0,0],[0,1,0],[0,0,0]],\n",
    "         [[0,1,0],[1,0,1],[0,1,0]],\n",
    "         [[0,0,0],[0,1,0],[0,0,0]]]\n",
    "    # convolution counts the number of cells that are covered by other faces\n",
    "    c = convolve(mp, k, mode='constant')    \n",
    "    faces = 0\n",
    "    for x, xi in enumerate(mp):\n",
    "        for y, yi in enumerate(xi):\n",
    "            for z, zi in enumerate(yi):\n",
    "                if mp[x][y][z] == 1:\n",
    "                    faces += (6 - c[x][y][z])\n",
    "    return faces"
   ]
  },
  {
   "cell_type": "code",
   "execution_count": 178,
   "id": "dd520436",
   "metadata": {},
   "outputs": [
    {
     "name": "stdout",
     "output_type": "stream",
     "text": [
      "Part 1 Answer: 3662\n"
     ]
    }
   ],
   "source": [
    "print('Part 1 Answer: ' + str(countFaces(mp)))"
   ]
  },
  {
   "cell_type": "code",
   "execution_count": 179,
   "id": "b4c14186",
   "metadata": {},
   "outputs": [],
   "source": [
    "xMax, yMax, zMax = mp.shape"
   ]
  },
  {
   "cell_type": "code",
   "execution_count": 180,
   "id": "6b1ece24",
   "metadata": {},
   "outputs": [],
   "source": [
    "import networkx as nx\n",
    "lava = nx.Graph()\n",
    "lava.add_node('edge')\n",
    "\n",
    "for x, xi in enumerate(mp):\n",
    "    for y, yi in enumerate(xi):\n",
    "        for z, zi in enumerate(yi):\n",
    "            lava.add_node((x, y, z))\n",
    "            neighs = []\n",
    "            if mp[x,y,z] == 1:\n",
    "                if x-1 >= 0 and mp[x-1, y, z] == 1:\n",
    "                    neighs.append(((x, y, z), (x-1, y, z)))\n",
    "                if x+1 < xMax and mp[x+1, y, z] == 1:\n",
    "                    neighs.append(((x, y, z), (x+1, y, z)))\n",
    "                if y-1 >= 0 and mp[x, y-1, z] == 1:\n",
    "                    neighs.append(((x, y, z), (x, y-1, z)))\n",
    "                if y+1 < yMax and mp[x, y+1, z] == 1:\n",
    "                    neighs.append(((x, y, z), (x, y+1, z)))               \n",
    "                if z-1 >= 0 and mp[x, y, z-1] == 1:\n",
    "                    neighs.append(((x, y, z), (x, y, z-1)))\n",
    "                if z+1 < zMax and mp[x, y, z+1] == 1:\n",
    "                    neighs.append(((x, y, z), (x, y, z+1)))\n",
    "            elif mp[x,y,z] == 0:\n",
    "                if x-1 >= 0 and mp[x-1, y, z] == 0:\n",
    "                    neighs.append(((x, y, z), (x-1, y, z)))\n",
    "                if x+1 < xMax and mp[x+1, y, z] == 0:\n",
    "                    neighs.append(((x, y, z), (x+1, y, z)))\n",
    "                if y-1 >= 0 and mp[x, y-1, z] == 0:\n",
    "                    neighs.append(((x, y, z), (x, y-1, z)))\n",
    "                if y+1 < yMax and mp[x, y+1, z] == 0:\n",
    "                    neighs.append(((x, y, z), (x, y+1, z)))               \n",
    "                if z-1 >= 0 and mp[x, y, z-1] == 0:\n",
    "                    neighs.append(((x, y, z), (x, y, z-1)))\n",
    "                if z+1 < zMax and mp[x, y, z+1] == 0:\n",
    "                    neighs.append(((x, y, z), (x, y, z+1)))\n",
    "                if x == 0 or y == 0 or z == 0 or x == xMax-1 or y == yMax-1 or z == xMax-1:\n",
    "                    neighs.append(((x, y, z), 'edge'))\n",
    "            lava.add_edges_from(neighs)"
   ]
  },
  {
   "cell_type": "code",
   "execution_count": 181,
   "id": "1f121082",
   "metadata": {},
   "outputs": [],
   "source": [
    "conns = nx.node_connected_component(lava, 'edge')"
   ]
  },
  {
   "cell_type": "code",
   "execution_count": 182,
   "id": "44afbb13",
   "metadata": {},
   "outputs": [],
   "source": [
    "for x, xi in enumerate(mp):\n",
    "    for y, yi in enumerate(xi):\n",
    "        for z, zi in enumerate(yi):\n",
    "            if mp[x, y, z] == 0 and not (x, y, z) in conns:\n",
    "                mp[x, y, z] = 1"
   ]
  },
  {
   "cell_type": "code",
   "execution_count": 183,
   "id": "2cc5bb8c",
   "metadata": {},
   "outputs": [
    {
     "name": "stdout",
     "output_type": "stream",
     "text": [
      "Part 2 Answer: 2060\n"
     ]
    }
   ],
   "source": [
    "print('Part 2 Answer: ' + str(countFaces(mp)))"
   ]
  }
 ],
 "metadata": {
  "kernelspec": {
   "display_name": "Python 3 (ipykernel)",
   "language": "python",
   "name": "python3"
  },
  "language_info": {
   "codemirror_mode": {
    "name": "ipython",
    "version": 3
   },
   "file_extension": ".py",
   "mimetype": "text/x-python",
   "name": "python",
   "nbconvert_exporter": "python",
   "pygments_lexer": "ipython3",
   "version": "3.9.12"
  }
 },
 "nbformat": 4,
 "nbformat_minor": 5
}

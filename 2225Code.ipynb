{
 "cells": [
  {
   "cell_type": "markdown",
   "id": "51023398",
   "metadata": {},
   "source": [
    "# This cell is auto-generated."
   ]
  },
  {
   "cell_type": "code",
   "execution_count": 74,
   "id": "24e52550",
   "metadata": {},
   "outputs": [
    {
     "name": "stdout",
     "output_type": "stream",
     "text": [
      "Which data set do you want to use? 1 = Test, 2 = Input 2\n"
     ]
    }
   ],
   "source": [
    "data = 0\n",
    "while data not in [1, 2]:\n",
    "    data = int(input('Which data set do you want to use? 1 = Test, 2 = Input '))\n",
    "\n",
    "if data == 1:\n",
    "    fp = 'Test/'\n",
    "    fn = '2225test.txt'\n",
    "elif data == 2:\n",
    "    fp = 'Input/'\n",
    "    fn = '2225input.txt'\n",
    "\n",
    "f = open(fp + fn, 'r')\n",
    "raw = [j for j in f.read().splitlines()]"
   ]
  },
  {
   "cell_type": "code",
   "execution_count": 75,
   "id": "0a2037ed",
   "metadata": {},
   "outputs": [],
   "source": [
    "digitMap = {'=': -2, '-': -1, '0': 0, '1': 1, '2': 2}"
   ]
  },
  {
   "cell_type": "code",
   "execution_count": 76,
   "id": "a4ca29c5",
   "metadata": {},
   "outputs": [],
   "source": [
    "def s2Dec(snafu):\n",
    "    dec = 0\n",
    "    exp = 0\n",
    "    for j in snafu[::-1]:\n",
    "        dec += digitMap[j] * (5 ** exp)\n",
    "        exp += 1\n",
    "    return dec"
   ]
  },
  {
   "cell_type": "code",
   "execution_count": 77,
   "id": "0e9bebca",
   "metadata": {},
   "outputs": [
    {
     "name": "stdout",
     "output_type": "stream",
     "text": [
      "The decimal solution is: 32762853787275\n"
     ]
    }
   ],
   "source": [
    "totDec = 0\n",
    "for j in raw:\n",
    "    totDec += s2Dec(j)\n",
    "print('The decimal solution is: ' + str(totDec))"
   ]
  },
  {
   "cell_type": "code",
   "execution_count": 78,
   "id": "33d4a171",
   "metadata": {},
   "outputs": [],
   "source": [
    "def Dec2B5(decimal):\n",
    "    # function to return the standard base 5 representation of a decimal number\n",
    "    s = \"\"\n",
    "    while decimal:\n",
    "        s = str(decimal % 5) + s\n",
    "        decimal //= 5\n",
    "    return s"
   ]
  },
  {
   "cell_type": "code",
   "execution_count": 79,
   "id": "0f87c0dc",
   "metadata": {},
   "outputs": [],
   "source": [
    "def b52Snafu(b5):\n",
    "    lenB5 = len(str(b5))\n",
    "    snfuNum = {}\n",
    "    for j in range(lenB5 + 3):\n",
    "        snfuNum[j] = 0\n",
    "    for i, iv in enumerate(str(b5)[::-1]):\n",
    "        if int(iv) == 4:\n",
    "            snfuNum[i] -= 1\n",
    "            snfuNum[i + 1] += 1\n",
    "        elif int(iv) == 3:\n",
    "            snfuNum[i] -= 2\n",
    "            snfuNum[i + 1] += 1\n",
    "        else:\n",
    "            snfuNum[i] += int(iv)\n",
    "    while any(snfuNum[j]>2 for j in snfuNum):\n",
    "        for k in snfuNum:\n",
    "            if snfuNum[k] == 3:\n",
    "                snfuNum[k] = -2\n",
    "                snfuNum[k + 1] += 1\n",
    "                break\n",
    "            elif snfuNum[k] == 4:\n",
    "                snfuNum[k] = -1\n",
    "                snfuNum[k + 1] += 1\n",
    "                break\n",
    "    snfu = {}\n",
    "    for k in snfuNum:\n",
    "        snfu[k] = getKey(snfuNum[k])\n",
    "    out = ''\n",
    "    for j in snfu:\n",
    "        out = snfu[j] + out\n",
    "    return out.lstrip('0')"
   ]
  },
  {
   "cell_type": "code",
   "execution_count": 80,
   "id": "7ac7cdd5",
   "metadata": {},
   "outputs": [],
   "source": [
    "def getKey(val):\n",
    "    for key, value in digitMap.items():\n",
    "        if val == value:\n",
    "            return key"
   ]
  },
  {
   "cell_type": "code",
   "execution_count": 81,
   "id": "6e1f8188",
   "metadata": {},
   "outputs": [
    {
     "name": "stdout",
     "output_type": "stream",
     "text": [
      "Part 1 Answer: 2-=0-=-2=111=220=100\n"
     ]
    }
   ],
   "source": [
    "print('Part 1 Answer: ' + b52Snafu(Dec2B5(totDec)))"
   ]
  }
 ],
 "metadata": {
  "kernelspec": {
   "display_name": "Python 3 (ipykernel)",
   "language": "python",
   "name": "python3"
  },
  "language_info": {
   "codemirror_mode": {
    "name": "ipython",
    "version": 3
   },
   "file_extension": ".py",
   "mimetype": "text/x-python",
   "name": "python",
   "nbconvert_exporter": "python",
   "pygments_lexer": "ipython3",
   "version": "3.9.12"
  }
 },
 "nbformat": 4,
 "nbformat_minor": 5
}

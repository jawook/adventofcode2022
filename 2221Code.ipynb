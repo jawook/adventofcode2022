{
 "cells": [
  {
   "cell_type": "markdown",
   "id": "c2ccac65",
   "metadata": {},
   "source": [
    "# This cell is auto-generated."
   ]
  },
  {
   "cell_type": "code",
   "execution_count": 304,
   "id": "9fb23e31",
   "metadata": {},
   "outputs": [
    {
     "name": "stdout",
     "output_type": "stream",
     "text": [
      "Which data set do you want to use? 1 = Test, 2 = Input 2\n"
     ]
    }
   ],
   "source": [
    "data = 0\n",
    "while data not in [1, 2]:\n",
    "    data = int(input('Which data set do you want to use? 1 = Test, 2 = Input '))\n",
    "\n",
    "if data == 1:\n",
    "    fp = 'Test/'\n",
    "    fn = '2221test.txt'\n",
    "elif data == 2:\n",
    "    fp = 'Input/'\n",
    "    fn = '2221input.txt'\n",
    "\n",
    "f = open(fp + fn, 'r')\n",
    "raw = [j for j in f.read().splitlines()]"
   ]
  },
  {
   "cell_type": "code",
   "execution_count": 305,
   "id": "33486058",
   "metadata": {},
   "outputs": [],
   "source": [
    "def dbMaker(raw):\n",
    "    db = {}\n",
    "    for r in raw:\n",
    "        nm = r[:4]\n",
    "        db[nm] = {}\n",
    "        db[nm]['eval'] = r[6:]\n",
    "    return db"
   ]
  },
  {
   "cell_type": "code",
   "execution_count": 306,
   "id": "f6154711",
   "metadata": {},
   "outputs": [],
   "source": [
    "def setInts(db):\n",
    "    for d in db:\n",
    "        try:\n",
    "            db[d]['res'] = int(db[d]['eval'])\n",
    "        except:\n",
    "            continue\n",
    "    return db"
   ]
  },
  {
   "cell_type": "code",
   "execution_count": 307,
   "id": "37f495ae",
   "metadata": {},
   "outputs": [],
   "source": [
    "def calcEqs(db):\n",
    "    for d in db:\n",
    "        if not 'res' in db[d]:\n",
    "            db[d]['left'] = db[d]['eval'][:4]\n",
    "            db[d]['rght'] = db[d]['eval'][-4:]\n",
    "            db[d]['op'] = db[d]['eval'][5]\n",
    "    return db"
   ]
  },
  {
   "cell_type": "code",
   "execution_count": 308,
   "id": "3224643e",
   "metadata": {},
   "outputs": [],
   "source": [
    "def loopEval(db):\n",
    "    for d in db:\n",
    "        if not 'res' in db[d]:\n",
    "            try:\n",
    "                db[d]['res'] = eval(str(db[db[d]['left']]['res']) + \n",
    "                                    db[d]['op'] + \n",
    "                                    str(db[db[d]['rght']]['res']))\n",
    "            except:\n",
    "                continue\n",
    "    return db"
   ]
  },
  {
   "cell_type": "code",
   "execution_count": 309,
   "id": "b687fd63",
   "metadata": {},
   "outputs": [],
   "source": [
    "from copy import deepcopy\n",
    "origDb = dbMaker(raw)\n",
    "db = deepcopy(origDb)\n",
    "db = setInts(db)\n",
    "db = calcEqs(db)\n",
    "while len(db) != sum([1 for i in db if ('res' in db[i])]):\n",
    "    db = loopEval(db)"
   ]
  },
  {
   "cell_type": "code",
   "execution_count": 310,
   "id": "a05145d0",
   "metadata": {
    "scrolled": true
   },
   "outputs": [
    {
     "name": "stdout",
     "output_type": "stream",
     "text": [
      "Part 1 Answer: 223971851179174.0\n"
     ]
    }
   ],
   "source": [
    "print('Part 1 Answer: ' + str(db['root']['res']))"
   ]
  },
  {
   "cell_type": "code",
   "execution_count": 311,
   "id": "66b13d20",
   "metadata": {},
   "outputs": [
    {
     "name": "stdout",
     "output_type": "stream",
     "text": [
      "Interval now: 10000000000.0\n",
      "Interval now: 1000000000.0\n",
      "Interval now: 100000000.0\n",
      "Interval now: 10000000.0\n",
      "Interval now: 1000000.0\n",
      "Interval now: 100000.0\n",
      "Interval now: 10000.0\n",
      "Interval now: 1000.0\n",
      "Interval now: 100.0\n",
      "Interval now: 10.0\n",
      "Interval now: 1.0\n"
     ]
    }
   ],
   "source": [
    "hSet = 0\n",
    "hInt = 100000000000\n",
    "lBig = True\n",
    "while True:\n",
    "    db = deepcopy(origDb)\n",
    "    db = setInts(db)\n",
    "    db = calcEqs(db)\n",
    "    db['humn']['res'] =  hSet\n",
    "    while len(db) != sum([1 for i in db if ('res' in db[i])]):\n",
    "        db = loopEval(db)\n",
    "    left = db[db['root']['left']]['res']\n",
    "    rght = db[db['root']['rght']]['res']\n",
    "#     print('left: ' + str(left) + ', right: ' + str(rght))\n",
    "    if left == rght:\n",
    "        break\n",
    "    else: \n",
    "        if lBig and (left < rght):\n",
    "            hSet -= hInt\n",
    "            hInt /= 10\n",
    "            print('Interval now: ' + str(hInt))\n",
    "            continue\n",
    "        else:\n",
    "            hSet += hInt"
   ]
  },
  {
   "cell_type": "code",
   "execution_count": 312,
   "id": "116de840",
   "metadata": {},
   "outputs": [
    {
     "name": "stdout",
     "output_type": "stream",
     "text": [
      "Part 2 Answer: 3379022190351.0\n"
     ]
    }
   ],
   "source": [
    "print('Part 2 Answer: ' + str(hSet))"
   ]
  }
 ],
 "metadata": {
  "kernelspec": {
   "display_name": "Python 3 (ipykernel)",
   "language": "python",
   "name": "python3"
  },
  "language_info": {
   "codemirror_mode": {
    "name": "ipython",
    "version": 3
   },
   "file_extension": ".py",
   "mimetype": "text/x-python",
   "name": "python",
   "nbconvert_exporter": "python",
   "pygments_lexer": "ipython3",
   "version": "3.9.12"
  }
 },
 "nbformat": 4,
 "nbformat_minor": 5
}

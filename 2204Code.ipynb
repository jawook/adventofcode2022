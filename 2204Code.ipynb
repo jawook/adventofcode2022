{
 "cells": [
  {
   "cell_type": "markdown",
   "id": "59fbebe6",
   "metadata": {},
   "source": [
    "# This cell is auto-generated."
   ]
  },
  {
   "cell_type": "code",
   "execution_count": 34,
   "id": "66ba7548",
   "metadata": {},
   "outputs": [
    {
     "name": "stdout",
     "output_type": "stream",
     "text": [
      "Which data set do you want to use? 1 = Test, 2 = Input 2\n"
     ]
    }
   ],
   "source": [
    "data = 0\n",
    "while data not in [1, 2]:\n",
    "    data = int(input('Which data set do you want to use? 1 = Test, 2 = Input '))\n",
    "\n",
    "if data == 1:\n",
    "    fp = 'Test/'\n",
    "    fn = '2204test.txt'\n",
    "elif data == 2:\n",
    "    fp = 'Input/'\n",
    "    fn = '2204input.txt'\n",
    "\n",
    "f = open(fp + fn, 'r')\n",
    "raw = [j for j in f.read().splitlines()]"
   ]
  },
  {
   "cell_type": "code",
   "execution_count": 35,
   "id": "60c73758",
   "metadata": {},
   "outputs": [],
   "source": [
    "import pandas as pd\n",
    "import numpy as np"
   ]
  },
  {
   "cell_type": "code",
   "execution_count": 36,
   "id": "3067b5f9",
   "metadata": {},
   "outputs": [],
   "source": [
    "df = pd.DataFrame(columns=['e1s', 'e1e', 'e2s', 'e2e'])"
   ]
  },
  {
   "cell_type": "code",
   "execution_count": 37,
   "id": "cf5df24c",
   "metadata": {},
   "outputs": [
    {
     "data": {
      "text/html": [
       "<div>\n",
       "<style scoped>\n",
       "    .dataframe tbody tr th:only-of-type {\n",
       "        vertical-align: middle;\n",
       "    }\n",
       "\n",
       "    .dataframe tbody tr th {\n",
       "        vertical-align: top;\n",
       "    }\n",
       "\n",
       "    .dataframe thead th {\n",
       "        text-align: right;\n",
       "    }\n",
       "</style>\n",
       "<table border=\"1\" class=\"dataframe\">\n",
       "  <thead>\n",
       "    <tr style=\"text-align: right;\">\n",
       "      <th></th>\n",
       "      <th>e1s</th>\n",
       "      <th>e1e</th>\n",
       "      <th>e2s</th>\n",
       "      <th>e2e</th>\n",
       "    </tr>\n",
       "  </thead>\n",
       "  <tbody>\n",
       "  </tbody>\n",
       "</table>\n",
       "</div>"
      ],
      "text/plain": [
       "Empty DataFrame\n",
       "Columns: [e1s, e1e, e2s, e2e]\n",
       "Index: []"
      ]
     },
     "execution_count": 37,
     "metadata": {},
     "output_type": "execute_result"
    }
   ],
   "source": [
    "df"
   ]
  },
  {
   "cell_type": "code",
   "execution_count": 38,
   "id": "e7233369",
   "metadata": {},
   "outputs": [],
   "source": [
    "rngs = np.array([j.split(',') for j in raw])\n",
    "df['e1'] = rngs[:,0]\n",
    "df['e2'] = rngs[:,1]"
   ]
  },
  {
   "cell_type": "code",
   "execution_count": 39,
   "id": "fe1b45ed",
   "metadata": {
    "scrolled": true
   },
   "outputs": [
    {
     "data": {
      "text/html": [
       "<div>\n",
       "<style scoped>\n",
       "    .dataframe tbody tr th:only-of-type {\n",
       "        vertical-align: middle;\n",
       "    }\n",
       "\n",
       "    .dataframe tbody tr th {\n",
       "        vertical-align: top;\n",
       "    }\n",
       "\n",
       "    .dataframe thead th {\n",
       "        text-align: right;\n",
       "    }\n",
       "</style>\n",
       "<table border=\"1\" class=\"dataframe\">\n",
       "  <thead>\n",
       "    <tr style=\"text-align: right;\">\n",
       "      <th></th>\n",
       "      <th>e1s</th>\n",
       "      <th>e1e</th>\n",
       "      <th>e2s</th>\n",
       "      <th>e2e</th>\n",
       "      <th>e1</th>\n",
       "      <th>e2</th>\n",
       "    </tr>\n",
       "  </thead>\n",
       "  <tbody>\n",
       "    <tr>\n",
       "      <th>0</th>\n",
       "      <td>98</td>\n",
       "      <td>99</td>\n",
       "      <td>3</td>\n",
       "      <td>97</td>\n",
       "      <td>98-99</td>\n",
       "      <td>3-97</td>\n",
       "    </tr>\n",
       "    <tr>\n",
       "      <th>1</th>\n",
       "      <td>23</td>\n",
       "      <td>72</td>\n",
       "      <td>23</td>\n",
       "      <td>72</td>\n",
       "      <td>23-72</td>\n",
       "      <td>23-72</td>\n",
       "    </tr>\n",
       "    <tr>\n",
       "      <th>2</th>\n",
       "      <td>53</td>\n",
       "      <td>62</td>\n",
       "      <td>8</td>\n",
       "      <td>87</td>\n",
       "      <td>53-62</td>\n",
       "      <td>8-87</td>\n",
       "    </tr>\n",
       "    <tr>\n",
       "      <th>3</th>\n",
       "      <td>21</td>\n",
       "      <td>52</td>\n",
       "      <td>36</td>\n",
       "      <td>51</td>\n",
       "      <td>21-52</td>\n",
       "      <td>36-51</td>\n",
       "    </tr>\n",
       "    <tr>\n",
       "      <th>4</th>\n",
       "      <td>36</td>\n",
       "      <td>38</td>\n",
       "      <td>37</td>\n",
       "      <td>96</td>\n",
       "      <td>36-38</td>\n",
       "      <td>37-96</td>\n",
       "    </tr>\n",
       "  </tbody>\n",
       "</table>\n",
       "</div>"
      ],
      "text/plain": [
       "   e1s  e1e  e2s  e2e     e1     e2\n",
       "0   98   99    3   97  98-99   3-97\n",
       "1   23   72   23   72  23-72  23-72\n",
       "2   53   62    8   87  53-62   8-87\n",
       "3   21   52   36   51  21-52  36-51\n",
       "4   36   38   37   96  36-38  37-96"
      ]
     },
     "execution_count": 39,
     "metadata": {},
     "output_type": "execute_result"
    }
   ],
   "source": [
    "df[['e1s', 'e1e']] = df['e1'].str.split('-', expand=True).astype(int)\n",
    "df[['e2s', 'e2e']] = df['e2'].str.split('-', expand=True).astype(int)\n",
    "df.head()"
   ]
  },
  {
   "cell_type": "code",
   "execution_count": 55,
   "id": "06f032d4",
   "metadata": {},
   "outputs": [
    {
     "name": "stdout",
     "output_type": "stream",
     "text": [
      "Part 1 Answer: 459\n"
     ]
    }
   ],
   "source": [
    "print('Part 1 Answer: ' + \n",
    "      str(sum(((df['e2s'] >= df['e1s']) & \n",
    "               (df['e2e'] <= df['e1e'])) |\n",
    "              ((df['e1s'] >= df['e2s']) &\n",
    "               (df['e1e'] <= df['e2e'])))))"
   ]
  },
  {
   "cell_type": "code",
   "execution_count": 56,
   "id": "4e841330",
   "metadata": {},
   "outputs": [
    {
     "name": "stdout",
     "output_type": "stream",
     "text": [
      "Part 2 Answer: 779\n"
     ]
    }
   ],
   "source": [
    "counter = 0\n",
    "for j in range(len(df)):\n",
    "    set1 = set(range(df.loc[j, 'e1s'], df.loc[j, 'e1e'] + 1))\n",
    "    set2 = set(range(df.loc[j, 'e2s'], df.loc[j, 'e2e'] + 1))\n",
    "    if len(set1 & set2) > 0: counter += 1\n",
    "print('Part 2 Answer: ' + str(counter))"
   ]
  }
 ],
 "metadata": {
  "kernelspec": {
   "display_name": "Python 3 (ipykernel)",
   "language": "python",
   "name": "python3"
  },
  "language_info": {
   "codemirror_mode": {
    "name": "ipython",
    "version": 3
   },
   "file_extension": ".py",
   "mimetype": "text/x-python",
   "name": "python",
   "nbconvert_exporter": "python",
   "pygments_lexer": "ipython3",
   "version": "3.9.12"
  }
 },
 "nbformat": 4,
 "nbformat_minor": 5
}

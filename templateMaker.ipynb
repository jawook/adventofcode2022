{
 "cells": [
  {
   "cell_type": "code",
   "execution_count": 7,
   "id": "812efa59",
   "metadata": {},
   "outputs": [],
   "source": [
    "import ipynbname\n",
    "import nbformat as nbf\n",
    "\n",
    "for j in range(3, 26):\n",
    "    num = str(j)\n",
    "    nb = nbf.v4.new_notebook()\n",
    "    text = \"\"\"\\\n",
    "# This cell is auto-generated.\"\"\"\n",
    "\n",
    "    code = \"\"\"\\\n",
    "data = 0\n",
    "while data not in [1, 2]:\n",
    "    data = int(input('Which data set do you want to use? 1 = Test, 2 = Input '))\n",
    "\n",
    "if data == 1:\n",
    "    fp = 'Test/'\n",
    "    fn = '22{x:02d}test.txt'\n",
    "elif data == 2:\n",
    "    fp = 'Input/'\n",
    "    fn = '22{y:02d}input.txt'\n",
    "\n",
    "f = open(fp + fn, 'r')\n",
    "raw = [j for j in f.read().splitlines()]\"\"\".format(x=j, y=j)\n",
    "\n",
    "    nb['cells'] = [nbf.v4.new_markdown_cell(text),\n",
    "                   nbf.v4.new_code_cell(code)]\n",
    "    fname = '22{:02d}Code.ipynb'.format(j)\n",
    "\n",
    "    with open(fname, 'w') as f:\n",
    "        nbf.write(nb, f)"
   ]
  }
 ],
 "metadata": {
  "kernelspec": {
   "display_name": "Python 3 (ipykernel)",
   "language": "python",
   "name": "python3"
  },
  "language_info": {
   "codemirror_mode": {
    "name": "ipython",
    "version": 3
   },
   "file_extension": ".py",
   "mimetype": "text/x-python",
   "name": "python",
   "nbconvert_exporter": "python",
   "pygments_lexer": "ipython3",
   "version": "3.9.12"
  }
 },
 "nbformat": 4,
 "nbformat_minor": 5
}

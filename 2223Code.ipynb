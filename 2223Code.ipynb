{
 "cells": [
  {
   "cell_type": "markdown",
   "id": "8967db87",
   "metadata": {},
   "source": [
    "# This cell is auto-generated."
   ]
  },
  {
   "cell_type": "code",
   "execution_count": 94,
   "id": "56619aa7",
   "metadata": {},
   "outputs": [
    {
     "name": "stdout",
     "output_type": "stream",
     "text": [
      "Which data set do you want to use? 1 = Test, 2 = Input 2\n"
     ]
    }
   ],
   "source": [
    "data = 0\n",
    "while data not in [1, 2]:\n",
    "    data = int(input('Which data set do you want to use? 1 = Test, 2 = Input '))\n",
    "\n",
    "if data == 1:\n",
    "    fp = 'Test/'\n",
    "    fn = '2223test.txt'\n",
    "elif data == 2:\n",
    "    fp = 'Input/'\n",
    "    fn = '2223input.txt'\n",
    "\n",
    "f = open(fp + fn, 'r')\n",
    "raw = [j for j in f.read().splitlines()]"
   ]
  },
  {
   "cell_type": "code",
   "execution_count": 95,
   "id": "f98967c6",
   "metadata": {},
   "outputs": [],
   "source": [
    "from collections import deque\n",
    "import pandas as pd\n",
    "import numpy as np"
   ]
  },
  {
   "cell_type": "code",
   "execution_count": 96,
   "id": "6774bd7c",
   "metadata": {},
   "outputs": [],
   "source": [
    "start = []\n",
    "for i in raw:\n",
    "    start.append([j for j in i])"
   ]
  },
  {
   "cell_type": "code",
   "execution_count": 97,
   "id": "d1680f81",
   "metadata": {},
   "outputs": [],
   "source": [
    "elves = {}\n",
    "eNum = 0\n",
    "for r, rv in enumerate(start):\n",
    "    for c, cv in enumerate(rv):\n",
    "        if cv == '#':\n",
    "            elves[eNum] = {}\n",
    "            elves[eNum]['xC'] = r\n",
    "            elves[eNum]['yC'] = c\n",
    "            eNum += 1\n",
    "elves = pd.DataFrame.from_dict(elves, orient='index')\n",
    "elves['coorC'] = list(zip(elves['xC'], elves['yC']))"
   ]
  },
  {
   "cell_type": "code",
   "execution_count": 98,
   "id": "78e19140",
   "metadata": {},
   "outputs": [],
   "source": [
    "loop = deque([[(-1, -1), (-1, 0), (-1, 1)], \n",
    "              [(1, -1), (1, 0), (1, 1)], \n",
    "              [(-1, -1), (0, -1), (1, -1)], \n",
    "              [(-1, 1), (0, 1), (1, 1)]])"
   ]
  },
  {
   "cell_type": "code",
   "execution_count": 99,
   "id": "40596dd9",
   "metadata": {},
   "outputs": [],
   "source": [
    "def checker(coorC, loop, df):\n",
    "    neighCount = 0\n",
    "    neighbors = [(-1, -1), (-1, 0), (-1, 1),\n",
    "                 (0, -1), (0, 1),\n",
    "                 (1, -1), (1, 0), (1, 1)]\n",
    "    for j in neighbors:\n",
    "        # print(tuple(np.add(coorC, j)))\n",
    "        if df['coorC'].isin([tuple(np.add(coorC, j))]).any():\n",
    "            neighCount += 1\n",
    "    if neighCount == 0:\n",
    "        # print('all neighbors are empty')\n",
    "        return coorC\n",
    "    for j in loop:\n",
    "        dirCount = 0\n",
    "        for i in j:\n",
    "            if df['coorC'].isin([tuple(np.add(coorC, i))]).any():\n",
    "                dirCount += 1\n",
    "        if dirCount == 0:\n",
    "            # print('propose move to ' + str(tuple(np.add(coorC, j[1]))))\n",
    "            return tuple(np.add(coorC, j[1]))\n",
    "    else:\n",
    "        return coorC"
   ]
  },
  {
   "cell_type": "code",
   "execution_count": 100,
   "id": "09c58b7f",
   "metadata": {},
   "outputs": [],
   "source": [
    "def ponder(elves, loop):\n",
    "    elves['prMove'] = elves['coorC'].apply(checker, loop=loop, df=elves)\n",
    "    return elves"
   ]
  },
  {
   "cell_type": "code",
   "execution_count": 101,
   "id": "a9e360c8",
   "metadata": {},
   "outputs": [],
   "source": [
    "def mover(row, df):\n",
    "    if sum(df['prMove'].isin([row['prMove']])) == 1:\n",
    "        return row['prMove']\n",
    "    else:\n",
    "        return row['coorC']"
   ]
  },
  {
   "cell_type": "code",
   "execution_count": null,
   "id": "358d422d",
   "metadata": {},
   "outputs": [],
   "source": [
    "for i in range(10):\n",
    "    elves = ponder(elves, loop)\n",
    "    elves['coorC'] = elves.apply(mover, df=elves, axis=1)\n",
    "    elves[['xC', 'yC']] = elves['coorC'].tolist()\n",
    "    loop.rotate(-1)"
   ]
  },
  {
   "cell_type": "code",
   "execution_count": null,
   "id": "9565f974",
   "metadata": {},
   "outputs": [],
   "source": [
    "xSpan = max(elves['xC']) - min(elves['xC']) + 1\n",
    "ySpan = max(elves['yC']) - min(elves['yC']) + 1\n",
    "area = xSpan * ySpan\n",
    "empties = area - len(elves)\n",
    "print('Part 1 Answer: ' + str(empties))"
   ]
  },
  {
   "cell_type": "code",
   "execution_count": 102,
   "id": "e48bdb9d",
   "metadata": {},
   "outputs": [],
   "source": [
    "elves = {}\n",
    "eNum = 0\n",
    "for r, rv in enumerate(start):\n",
    "    for c, cv in enumerate(rv):\n",
    "        if cv == '#':\n",
    "            elves[eNum] = {}\n",
    "            elves[eNum]['xC'] = r\n",
    "            elves[eNum]['yC'] = c\n",
    "            eNum += 1\n",
    "elves = pd.DataFrame.from_dict(elves, orient='index')\n",
    "elves['coorC'] = list(zip(elves['xC'], elves['yC']))"
   ]
  },
  {
   "cell_type": "code",
   "execution_count": 103,
   "id": "ad0124b5",
   "metadata": {},
   "outputs": [],
   "source": [
    "loop = deque([[(-1, -1), (-1, 0), (-1, 1)], \n",
    "              [(1, -1), (1, 0), (1, 1)], \n",
    "              [(-1, -1), (0, -1), (1, -1)], \n",
    "              [(-1, 1), (0, 1), (1, 1)]])"
   ]
  },
  {
   "cell_type": "code",
   "execution_count": 104,
   "id": "8b57e187",
   "metadata": {},
   "outputs": [],
   "source": [
    "cycle = 1\n",
    "while True:\n",
    "    elves = ponder(elves, loop)\n",
    "    elves['coorCNew'] = elves.apply(mover, df=elves, axis=1)\n",
    "    if elves['coorCNew'].equals(elves['coorC']):\n",
    "        break\n",
    "    elves['coorC'] = elves['coorCNew'].copy()\n",
    "    loop.rotate(-1)\n",
    "    cycle +=1"
   ]
  },
  {
   "cell_type": "code",
   "execution_count": 105,
   "id": "2648c795",
   "metadata": {},
   "outputs": [
    {
     "name": "stdout",
     "output_type": "stream",
     "text": [
      "Part 2 Answer: 1069\n"
     ]
    }
   ],
   "source": [
    "print('Part 2 Answer: ' + str(cycle))"
   ]
  },
  {
   "cell_type": "code",
   "execution_count": null,
   "id": "240c5d2b",
   "metadata": {},
   "outputs": [],
   "source": []
  }
 ],
 "metadata": {
  "kernelspec": {
   "display_name": "Python 3 (ipykernel)",
   "language": "python",
   "name": "python3"
  },
  "language_info": {
   "codemirror_mode": {
    "name": "ipython",
    "version": 3
   },
   "file_extension": ".py",
   "mimetype": "text/x-python",
   "name": "python",
   "nbconvert_exporter": "python",
   "pygments_lexer": "ipython3",
   "version": "3.9.12"
  }
 },
 "nbformat": 4,
 "nbformat_minor": 5
}

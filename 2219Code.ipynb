{
 "cells": [
  {
   "cell_type": "markdown",
   "id": "6b9a7c72",
   "metadata": {},
   "source": [
    "# This cell is auto-generated."
   ]
  },
  {
   "cell_type": "code",
   "execution_count": 11,
   "id": "b91f2e89",
   "metadata": {},
   "outputs": [
    {
     "name": "stdout",
     "output_type": "stream",
     "text": [
      "Which data set do you want to use? 1 = Test, 2 = Input 1\n"
     ]
    }
   ],
   "source": [
    "data = 0\n",
    "while data not in [1, 2]:\n",
    "    data = int(input('Which data set do you want to use? 1 = Test, 2 = Input '))\n",
    "\n",
    "if data == 1:\n",
    "    fp = 'Test/'\n",
    "    fn = '2219test.txt'\n",
    "elif data == 2:\n",
    "    fp = 'Input/'\n",
    "    fn = '2219input.txt'\n",
    "\n",
    "f = open(fp + fn, 'r')\n",
    "raw = [j for j in f.read().splitlines()]"
   ]
  },
  {
   "cell_type": "code",
   "execution_count": 13,
   "id": "de76e53e",
   "metadata": {},
   "outputs": [],
   "source": [
    "import re"
   ]
  },
  {
   "cell_type": "code",
   "execution_count": 24,
   "id": "360d2b41",
   "metadata": {},
   "outputs": [],
   "source": [
    "bps = {}\n",
    "for j, jv in enumerate(raw):\n",
    "    bps[j] = {}\n",
    "    bps[j]['oRobO'] = re.findall(r'ore robot costs [0-9]+', jv)[0]\n",
    "    bps[j]['cRobO'] = re.findall(r'clay robot costs [0-9]+', jv)[0]\n",
    "    bps[j]['gRobO'] = re.findall(r'geode robot costs [0-9]+', jv)[0]\n",
    "    bps[j]['gRobC'] = re.findall(r'and [0-9]+', jv)[0]\n",
    "    for k in bps[j]:\n",
    "        bps[j][k] = int(re.sub(r'[a-z\\s]+', '', bps[j][k]))"
   ]
  },
  {
   "cell_type": "code",
   "execution_count": 25,
   "id": "8b1bad56",
   "metadata": {},
   "outputs": [],
   "source": [
    "invRobots = {'o': 1, 'c': 0, 'g': 0}\n",
    "invOre = {'o': 0, 'c': 0, 'g': 0}"
   ]
  },
  {
   "cell_type": "code",
   "execution_count": null,
   "id": "c28f0709",
   "metadata": {},
   "outputs": [],
   "source": []
  }
 ],
 "metadata": {
  "kernelspec": {
   "display_name": "Python 3 (ipykernel)",
   "language": "python",
   "name": "python3"
  },
  "language_info": {
   "codemirror_mode": {
    "name": "ipython",
    "version": 3
   },
   "file_extension": ".py",
   "mimetype": "text/x-python",
   "name": "python",
   "nbconvert_exporter": "python",
   "pygments_lexer": "ipython3",
   "version": "3.9.12"
  }
 },
 "nbformat": 4,
 "nbformat_minor": 5
}

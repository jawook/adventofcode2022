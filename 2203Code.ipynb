{
 "cells": [
  {
   "cell_type": "markdown",
   "id": "a6ec0108",
   "metadata": {},
   "source": [
    "# This cell is auto-generated."
   ]
  },
  {
   "cell_type": "code",
   "execution_count": 58,
   "id": "9785a37d",
   "metadata": {},
   "outputs": [
    {
     "name": "stdout",
     "output_type": "stream",
     "text": [
      "Which data set do you want to use? 1 = Test, 2 = Input 2\n"
     ]
    }
   ],
   "source": [
    "data = 0\n",
    "while data not in [1, 2]:\n",
    "    data = int(input('Which data set do you want to use? 1 = Test, 2 = Input '))\n",
    "\n",
    "if data == 1:\n",
    "    fp = 'Test/'\n",
    "    fn = '2203test.txt'\n",
    "elif data == 2:\n",
    "    fp = 'Input/'\n",
    "    fn = '2203input.txt'\n",
    "\n",
    "f = open(fp + fn, 'r')\n",
    "raw = [j for j in f.read().splitlines()]"
   ]
  },
  {
   "cell_type": "code",
   "execution_count": 59,
   "id": "57dcc378",
   "metadata": {},
   "outputs": [],
   "source": [
    "import re\n",
    "import string"
   ]
  },
  {
   "cell_type": "code",
   "execution_count": 60,
   "id": "123d01e4",
   "metadata": {},
   "outputs": [],
   "source": [
    "splits = [[j[:len(j)//2], j[len(j)//2:]] for j in raw]"
   ]
  },
  {
   "cell_type": "code",
   "execution_count": 61,
   "id": "9abda324",
   "metadata": {},
   "outputs": [],
   "source": [
    "reps = []\n",
    "for j in splits:\n",
    "    reps.append(list(set(j[0]).intersection(j[1])))"
   ]
  },
  {
   "cell_type": "code",
   "execution_count": 62,
   "id": "aa54aaf0",
   "metadata": {},
   "outputs": [],
   "source": [
    "charVals = {}\n",
    "num = 1\n",
    "for let in string.ascii_lowercase:\n",
    "    charVals[let] = num\n",
    "    num += 1\n",
    "\n",
    "for let in string.ascii_uppercase:\n",
    "    charVals[let] = num\n",
    "    num += 1"
   ]
  },
  {
   "cell_type": "code",
   "execution_count": 63,
   "id": "dd2af29c",
   "metadata": {},
   "outputs": [],
   "source": [
    "priNum = 0\n",
    "for r in reps:\n",
    "    priNum += charVals[r[0]]"
   ]
  },
  {
   "cell_type": "code",
   "execution_count": 64,
   "id": "a92f06a5",
   "metadata": {},
   "outputs": [
    {
     "name": "stdout",
     "output_type": "stream",
     "text": [
      "Part 1 Answer: The sum of priorities is: 7674\n"
     ]
    }
   ],
   "source": [
    "print('Part 1 Answer: The sum of priorities is: ' + str(priNum))"
   ]
  },
  {
   "cell_type": "code",
   "execution_count": 65,
   "id": "8cc7ecb5",
   "metadata": {},
   "outputs": [],
   "source": [
    "groups = []\n",
    "step = 3\n",
    "for j in range(0, len(raw), step):\n",
    "    groups.append(raw[j:j+step])"
   ]
  },
  {
   "cell_type": "code",
   "execution_count": 66,
   "id": "afcf7487",
   "metadata": {},
   "outputs": [],
   "source": [
    "commons = []\n",
    "for group in groups:\n",
    "    commons.append(list(set(group[0]) & set(group[1]) & set(group[2])))"
   ]
  },
  {
   "cell_type": "code",
   "execution_count": 67,
   "id": "902808b7",
   "metadata": {},
   "outputs": [],
   "source": [
    "priNum = 0\n",
    "for c in commons:\n",
    "    priNum += charVals[c[0]]"
   ]
  },
  {
   "cell_type": "code",
   "execution_count": 68,
   "id": "7aeda7a1",
   "metadata": {},
   "outputs": [
    {
     "name": "stdout",
     "output_type": "stream",
     "text": [
      "Part 2 Answer: The sum of priorities is: 2805\n"
     ]
    }
   ],
   "source": [
    "print('Part 2 Answer: The sum of priorities is: ' + str(priNum))"
   ]
  }
 ],
 "metadata": {
  "kernelspec": {
   "display_name": "Python 3 (ipykernel)",
   "language": "python",
   "name": "python3"
  },
  "language_info": {
   "codemirror_mode": {
    "name": "ipython",
    "version": 3
   },
   "file_extension": ".py",
   "mimetype": "text/x-python",
   "name": "python",
   "nbconvert_exporter": "python",
   "pygments_lexer": "ipython3",
   "version": "3.9.12"
  }
 },
 "nbformat": 4,
 "nbformat_minor": 5
}

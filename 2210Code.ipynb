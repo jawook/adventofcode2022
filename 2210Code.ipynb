{
 "cells": [
  {
   "cell_type": "markdown",
   "id": "78f0ddce",
   "metadata": {},
   "source": [
    "# This cell is auto-generated."
   ]
  },
  {
   "cell_type": "code",
   "execution_count": 107,
   "id": "fa7aa6de",
   "metadata": {},
   "outputs": [
    {
     "name": "stdout",
     "output_type": "stream",
     "text": [
      "Which data set do you want to use? 1 = Test, 2 = Input 2\n"
     ]
    }
   ],
   "source": [
    "data = 0\n",
    "while data not in [1, 2]:\n",
    "    data = int(input('Which data set do you want to use? 1 = Test, 2 = Input '))\n",
    "\n",
    "if data == 1:\n",
    "    fp = 'Test/'\n",
    "    fn = '2210test.txt'\n",
    "elif data == 2:\n",
    "    fp = 'Input/'\n",
    "    fn = '2210input.txt'\n",
    "\n",
    "f = open(fp + fn, 'r')\n",
    "raw = [j for j in f.read().splitlines()]"
   ]
  },
  {
   "cell_type": "code",
   "execution_count": 108,
   "id": "25146eed",
   "metadata": {},
   "outputs": [],
   "source": [
    "cycle = 0\n",
    "reg = 1\n",
    "strenList = {}\n",
    "regList = {}\n",
    "\n",
    "for l, line in enumerate(raw):\n",
    "    if line[:4] == 'noop':\n",
    "        cycle += 1\n",
    "        strenList[cycle] = cycle * reg\n",
    "        regList[cycle] = reg\n",
    "    elif line[:4] == 'addx':\n",
    "        cycle += 1 \n",
    "        strenList[cycle] = cycle * reg\n",
    "        regList[cycle] = reg\n",
    "        cycle += 1\n",
    "        strenList[cycle] = cycle * reg\n",
    "        regList[cycle] = reg\n",
    "        reg += int(line[4:])"
   ]
  },
  {
   "cell_type": "code",
   "execution_count": 109,
   "id": "d71d6d8d",
   "metadata": {},
   "outputs": [
    {
     "name": "stdout",
     "output_type": "stream",
     "text": [
      "Part 1 Answer: 13740\n"
     ]
    }
   ],
   "source": [
    "print('Part 1 Answer: ' + str(strenList[20] + strenList[60] + strenList[100] + strenList[140] +\n",
    "                              strenList[180] + strenList[220]))"
   ]
  },
  {
   "cell_type": "code",
   "execution_count": 110,
   "id": "1e31495a",
   "metadata": {},
   "outputs": [],
   "source": [
    "import numpy as np\n",
    "from PIL import Image as im\n",
    "from IPython import display"
   ]
  },
  {
   "cell_type": "code",
   "execution_count": 111,
   "id": "d35f5de0",
   "metadata": {},
   "outputs": [],
   "source": [
    "disp = np.zeros((6, 40), dtype='str')\n",
    "locMap = np.reshape(np.arange(1, 241), (6, 40))"
   ]
  },
  {
   "cell_type": "code",
   "execution_count": 112,
   "id": "f6612584",
   "metadata": {},
   "outputs": [],
   "source": [
    "def cycMarker(cycle, sprite, locMap):\n",
    "    locCyc = np.where(locMap==cycle)\n",
    "    if locCyc[1][0] in sprite:\n",
    "        return ('#', locCyc)\n",
    "    else:\n",
    "        return ('.', locCyc)"
   ]
  },
  {
   "cell_type": "code",
   "execution_count": 113,
   "id": "c861d469",
   "metadata": {},
   "outputs": [],
   "source": [
    "cycle = 0\n",
    "reg = 1\n",
    "strenList = {}\n",
    "regList = {}\n",
    "\n",
    "for l, line in enumerate(raw):\n",
    "    if line[:4] == 'noop':\n",
    "        cycle += 1\n",
    "        marks = cycMarker(cycle, [reg-1, reg, reg+1], locMap)\n",
    "        disp[marks[1]] = marks[0]\n",
    "#         print('Cycle ' + str(cycle) + '|' + str(marks) + '|' + str(reg))\n",
    "    elif line[:4] == 'addx':\n",
    "        cycle += 1 \n",
    "        marks = cycMarker(cycle, [reg-1, reg, reg+1], locMap)\n",
    "        disp[marks[1]] = marks[0]\n",
    "#         print('Cycle ' + str(cycle) + '|' + str(marks) + '|' + str(reg))\n",
    "        cycle += 1\n",
    "        marks = cycMarker(cycle, [reg-1, reg, reg+1], locMap)\n",
    "        disp[marks[1]] = marks[0]\n",
    "#         print('Cycle ' + str(cycle) + '|' + str(marks) + '|' + str(reg))\n",
    "        reg += int(line[4:])"
   ]
  },
  {
   "cell_type": "code",
   "execution_count": 114,
   "id": "856265cc",
   "metadata": {},
   "outputs": [],
   "source": [
    "np.savetxt('2210Output.csv', disp, delimiter=',', fmt=\"%s\")"
   ]
  }
 ],
 "metadata": {
  "kernelspec": {
   "display_name": "Python 3 (ipykernel)",
   "language": "python",
   "name": "python3"
  },
  "language_info": {
   "codemirror_mode": {
    "name": "ipython",
    "version": 3
   },
   "file_extension": ".py",
   "mimetype": "text/x-python",
   "name": "python",
   "nbconvert_exporter": "python",
   "pygments_lexer": "ipython3",
   "version": "3.9.12"
  }
 },
 "nbformat": 4,
 "nbformat_minor": 5
}

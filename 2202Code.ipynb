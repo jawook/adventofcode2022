{
 "cells": [
  {
   "cell_type": "code",
   "execution_count": 29,
   "id": "812efa59",
   "metadata": {},
   "outputs": [
    {
     "name": "stdout",
     "output_type": "stream",
     "text": [
      "Which data set do you want to use? 1 = Test, 2 = Input 2\n"
     ]
    }
   ],
   "source": [
    "import numpy as np\n",
    "data = 0\n",
    "while data not in [1, 2]:\n",
    "    data = int(input('Which data set do you want to use? 1 = Test, 2 = Input '))\n",
    "\n",
    "if data == 1:\n",
    "    fp = 'Test/'\n",
    "    fn = '2202test.txt'\n",
    "elif data == 2:\n",
    "    fp = 'Input/'\n",
    "    fn = '2202input.txt'\n",
    "\n",
    "f = open(fp + fn, 'r')\n",
    "raw = [j for j in f.read().splitlines()]"
   ]
  },
  {
   "cell_type": "code",
   "execution_count": 30,
   "id": "17a9163d",
   "metadata": {},
   "outputs": [
    {
     "data": {
      "text/plain": [
       "array([['C', 'Y'],\n",
       "       ['B', 'Y'],\n",
       "       ['C', 'Y'],\n",
       "       ...,\n",
       "       ['A', 'Z'],\n",
       "       ['A', 'Y'],\n",
       "       ['C', 'Y']], dtype='<U1')"
      ]
     },
     "execution_count": 30,
     "metadata": {},
     "output_type": "execute_result"
    }
   ],
   "source": [
    "tosses = np.array([j.split(' ') for j in raw])\n",
    "tosses"
   ]
  },
  {
   "cell_type": "code",
   "execution_count": 31,
   "id": "5eee5dff",
   "metadata": {},
   "outputs": [
    {
     "name": "stdout",
     "output_type": "stream",
     "text": [
      "Part 1 Answer -- your score is: 9759\n"
     ]
    }
   ],
   "source": [
    "elfToss = tosses[:, 0]\n",
    "youToss = tosses[:, 1]\n",
    "score=0\n",
    "elfGmSc = {'A': {'X': 3, 'Y': 6, 'Z': 0},\n",
    "           'B': {'X': 0, 'Y': 3, 'Z': 6},\n",
    "           'C': {'X': 6, 'Y': 0, 'Z': 3}}\n",
    "myTossSc = {'X': 1, 'Y': 2, 'Z': 3}\n",
    "\n",
    "for et, yt in zip(elfToss, youToss):\n",
    "    score += elfGmSc[et][yt]\n",
    "    score += myTossSc[yt]\n",
    "print('Part 1 Answer -- your score is: ' + str(score))"
   ]
  },
  {
   "cell_type": "code",
   "execution_count": 32,
   "id": "6fe5a793",
   "metadata": {},
   "outputs": [
    {
     "name": "stdout",
     "output_type": "stream",
     "text": [
      "Part 2 Answer -- your score is: 12429\n"
     ]
    }
   ],
   "source": [
    "score = 0\n",
    "respLib = {'A': {'X': 'Z', 'Y': 'X', 'Z': 'Y'},\n",
    "           'B': {'X': 'X', 'Y': 'Y', 'Z': 'Z'},\n",
    "           'C': {'X': 'Y', 'Y': 'Z', 'Z': 'X'}}\n",
    "for et, yt in zip(elfToss, youToss):\n",
    "    pick = respLib[et][yt]\n",
    "    score += elfGmSc[et][pick]\n",
    "    score += myTossSc[pick]\n",
    "print('Part 2 Answer -- your score is: ' + str(score))"
   ]
  }
 ],
 "metadata": {
  "kernelspec": {
   "display_name": "Python 3 (ipykernel)",
   "language": "python",
   "name": "python3"
  },
  "language_info": {
   "codemirror_mode": {
    "name": "ipython",
    "version": 3
   },
   "file_extension": ".py",
   "mimetype": "text/x-python",
   "name": "python",
   "nbconvert_exporter": "python",
   "pygments_lexer": "ipython3",
   "version": "3.9.12"
  }
 },
 "nbformat": 4,
 "nbformat_minor": 5
}

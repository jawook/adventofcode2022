{
 "cells": [
  {
   "cell_type": "markdown",
   "id": "65cf8c9c",
   "metadata": {},
   "source": [
    "# This cell is auto-generated."
   ]
  },
  {
   "cell_type": "code",
   "execution_count": 51,
   "id": "ea1a55b5",
   "metadata": {},
   "outputs": [
    {
     "name": "stdout",
     "output_type": "stream",
     "text": [
      "Which data set do you want to use? 1 = Test, 2 = Input 2\n"
     ]
    }
   ],
   "source": [
    "data = 0\n",
    "while data not in [1, 2]:\n",
    "    data = int(input('Which data set do you want to use? 1 = Test, 2 = Input '))\n",
    "\n",
    "if data == 1:\n",
    "    fp = 'Test/'\n",
    "    fn = '2211test.txt'\n",
    "elif data == 2:\n",
    "    fp = 'Input/'\n",
    "    fn = '2211input.txt'\n",
    "\n",
    "f = open(fp + fn, 'r')\n",
    "raw = [j for j in f.read().splitlines()]"
   ]
  },
  {
   "cell_type": "code",
   "execution_count": 52,
   "id": "9226b83a",
   "metadata": {},
   "outputs": [],
   "source": [
    "import re\n",
    "from collections import deque"
   ]
  },
  {
   "cell_type": "code",
   "execution_count": 53,
   "id": "9b9ebb1c",
   "metadata": {},
   "outputs": [],
   "source": [
    "instSize = 7\n",
    "instList = []\n",
    "for j in range(0, len(raw), instSize):\n",
    "    instList.append(raw[j:j+instSize])"
   ]
  },
  {
   "cell_type": "code",
   "execution_count": 54,
   "id": "73a7cf48",
   "metadata": {},
   "outputs": [],
   "source": [
    "monkeys = {}\n",
    "items = {}\n",
    "itNum = 0\n",
    "for j in instList:\n",
    "    mname = int(re.findall(r'[0-9]+', j[0])[0])\n",
    "    monkeys[mname] = dict()\n",
    "    monkeys[mname]['testDiv'] = int(re.findall(r'[0-9]+', j[3])[0])\n",
    "    monkeys[mname]['opSn'] = re.findall(r'[*\\+]', j[2])[0]\n",
    "#     monkeys[mname]['opNum'] = \n",
    "    if not re.findall(r'[0-9]+', j[2]):\n",
    "        monkeys[mname]['opNm'] = 'x'\n",
    "    else:\n",
    "        monkeys[mname]['opNm'] = int(re.findall(r'[0-9]+', j[2])[0])\n",
    "    monkeys[mname]['tTrue'] = int(re.findall(r'[0-9]+', j[4])[0])\n",
    "    monkeys[mname]['tFalse'] = int(re.findall(r'[0-9]+', j[5])[0])\n",
    "    monkeys[mname]['inspNum'] = 0\n",
    "    monkeys[mname]['items'] = deque()\n",
    "    itWors = re.findall(r'[0-9]+', j[1])\n",
    "    for i in itWors:\n",
    "        items[itNum] = dict()\n",
    "        items[itNum]['wrNum'] = int(i)\n",
    "        monkeys[mname]['items'].append(itNum)\n",
    "        itNum += 1"
   ]
  },
  {
   "cell_type": "code",
   "execution_count": 55,
   "id": "8d2b1efa",
   "metadata": {},
   "outputs": [],
   "source": [
    "def shenanigans(mDict, iDict, worrRedFact):\n",
    "    for m in mDict:\n",
    "    #     print('---------')\n",
    "    #     print('current monkey: ' + str(m))\n",
    "        while mDict[m]['items']:\n",
    "    #         inspection of item\n",
    "            item = mDict[m]['items'].popleft()\n",
    "    #         print('Current item ' + str(item) + '| current worry level: ' + str(iDict[item]['wrNum']))\n",
    "            if mDict[m]['opSn'] == '*':\n",
    "                if mDict[m]['opNm'] == 'x':\n",
    "                    iDict[item]['wrNum'] = iDict[item]['wrNum']**2\n",
    "                else:\n",
    "                    iDict[item]['wrNum'] = iDict[item]['wrNum'] * mDict[m]['opNm']\n",
    "            elif mDict[m]['opSn'] == '+':\n",
    "                iDict[item]['wrNum'] = iDict[item]['wrNum'] + mDict[m]['opNm']\n",
    "            mDict[m]['inspNum'] += 1\n",
    "    #         print('Worry level after inspection: ' + str(iDict[item]['wrNum']))\n",
    "    #         reduction of worry\n",
    "            iDict[item]['wrNum'] = iDict[item]['wrNum'] // worrRedFact\n",
    "    #         print('Worry level after relief: ' + str(iDict[item]['wrNum']))\n",
    "    #         test of worry level and throw\n",
    "            if (iDict[item]['wrNum'] % mDict[m]['testDiv']) == 0:\n",
    "                mDict[mDict[m]['tTrue']]['items'].append(item)\n",
    "    #             print('Moved to monkey: ' + str(mDict[m]['tTrue']))\n",
    "            else:\n",
    "                mDict[mDict[m]['tFalse']]['items'].append(item)\n",
    "    #             print('Moved to monkey: ' + str(mDict[m]['tFalse']))\n",
    "    #     print(mDict)\n",
    "    #     print(iDict)\n",
    "    return (mDict, iDict)"
   ]
  },
  {
   "cell_type": "code",
   "execution_count": 56,
   "id": "de980f08",
   "metadata": {},
   "outputs": [],
   "source": [
    "from copy import deepcopy\n",
    "monkeys1 = deepcopy(monkeys)\n",
    "items1 = deepcopy(items)\n",
    "monkeys2 = deepcopy(monkeys)\n",
    "items2 = deepcopy(items)"
   ]
  },
  {
   "cell_type": "code",
   "execution_count": 57,
   "id": "f60b0d52",
   "metadata": {},
   "outputs": [],
   "source": [
    "for j in range(20):\n",
    "    monkeys1, items1 = shenanigans(monkeys1, items1, 3)"
   ]
  },
  {
   "cell_type": "code",
   "execution_count": 58,
   "id": "cfa8779a",
   "metadata": {},
   "outputs": [],
   "source": [
    "mBusList = sorted([monkeys1[m]['inspNum'] for m in monkeys], reverse=True)\n",
    "monkBus = mBusList[0] * mBusList[1]"
   ]
  },
  {
   "cell_type": "code",
   "execution_count": 59,
   "id": "eadce4bf",
   "metadata": {},
   "outputs": [
    {
     "name": "stdout",
     "output_type": "stream",
     "text": [
      "Part 1 Answer: 90882\n"
     ]
    }
   ],
   "source": [
    "print('Part 1 Answer: ' + str(monkBus))"
   ]
  },
  {
   "cell_type": "code",
   "execution_count": 60,
   "id": "b470cf0e",
   "metadata": {},
   "outputs": [
    {
     "data": {
      "text/plain": [
       "9699690"
      ]
     },
     "execution_count": 60,
     "metadata": {},
     "output_type": "execute_result"
    }
   ],
   "source": [
    "from math import gcd\n",
    "totalLCM = 1\n",
    "for m in monkeys:\n",
    "    totalLCM = totalLCM * monkeys[m]['testDiv'] // gcd(totalLCM, monkeys[m]['testDiv'])\n",
    "totalLCM"
   ]
  },
  {
   "cell_type": "code",
   "execution_count": 61,
   "id": "3169ab50",
   "metadata": {},
   "outputs": [],
   "source": [
    "def shenanigans2(mDict, iDict, totalLCM):\n",
    "    for m in mDict:\n",
    "    #     print('---------')\n",
    "    #     print('current monkey: ' + str(m))\n",
    "        while mDict[m]['items']:\n",
    "    #         inspection of item\n",
    "            item = mDict[m]['items'].popleft()\n",
    "    #         print('Current item ' + str(item) + '| current worry level: ' + str(iDict[item]['wrNum']))\n",
    "            if mDict[m]['opSn'] == '*':\n",
    "                if mDict[m]['opNm'] == 'x':\n",
    "                    iDict[item]['wrNum'] = iDict[item]['wrNum']**2\n",
    "                else:\n",
    "                    iDict[item]['wrNum'] = iDict[item]['wrNum'] * mDict[m]['opNm']\n",
    "            elif mDict[m]['opSn'] == '+':\n",
    "                iDict[item]['wrNum'] = iDict[item]['wrNum'] + mDict[m]['opNm']\n",
    "            mDict[m]['inspNum'] += 1\n",
    "    #         print('Worry level after inspection: ' + str(iDict[item]['wrNum']))\n",
    "    #         reduction of worry\n",
    "            iDict[item]['wrNum'] %= totalLCM\n",
    "    #         print('Worry level after relief: ' + str(iDict[item]['wrNum']))\n",
    "    #         test of worry level and throw\n",
    "            if (iDict[item]['wrNum'] % mDict[m]['testDiv']) == 0:\n",
    "                mDict[mDict[m]['tTrue']]['items'].append(item)\n",
    "    #             print('Moved to monkey: ' + str(mDict[m]['tTrue']))\n",
    "            else:\n",
    "                mDict[mDict[m]['tFalse']]['items'].append(item)\n",
    "    #             print('Moved to monkey: ' + str(mDict[m]['tFalse']))\n",
    "    #     print(mDict)\n",
    "    #     print(iDict)\n",
    "    return (mDict, iDict)"
   ]
  },
  {
   "cell_type": "code",
   "execution_count": 62,
   "id": "f766b26d",
   "metadata": {},
   "outputs": [],
   "source": [
    "for j in range(10000):\n",
    "    monkeys2, items2 = shenanigans2(monkeys2, items2, totalLCM)"
   ]
  },
  {
   "cell_type": "code",
   "execution_count": 63,
   "id": "6647407a",
   "metadata": {},
   "outputs": [],
   "source": [
    "mBusList = sorted([monkeys2[m]['inspNum'] for m in monkeys2], reverse=True)\n",
    "monkBus = mBusList[0] * mBusList[1]"
   ]
  },
  {
   "cell_type": "code",
   "execution_count": 64,
   "id": "8eb8acdd",
   "metadata": {},
   "outputs": [
    {
     "name": "stdout",
     "output_type": "stream",
     "text": [
      "Part 2 Answer: 30893109657\n"
     ]
    }
   ],
   "source": [
    "print('Part 2 Answer: ' + str(monkBus))"
   ]
  },
  {
   "cell_type": "code",
   "execution_count": null,
   "id": "01d12e93",
   "metadata": {},
   "outputs": [],
   "source": []
  }
 ],
 "metadata": {
  "kernelspec": {
   "display_name": "Python 3 (ipykernel)",
   "language": "python",
   "name": "python3"
  },
  "language_info": {
   "codemirror_mode": {
    "name": "ipython",
    "version": 3
   },
   "file_extension": ".py",
   "mimetype": "text/x-python",
   "name": "python",
   "nbconvert_exporter": "python",
   "pygments_lexer": "ipython3",
   "version": "3.9.12"
  }
 },
 "nbformat": 4,
 "nbformat_minor": 5
}

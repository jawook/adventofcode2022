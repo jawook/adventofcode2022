{
 "cells": [
  {
   "cell_type": "markdown",
   "id": "d7108508",
   "metadata": {},
   "source": [
    "# This cell is auto-generated."
   ]
  },
  {
   "cell_type": "code",
   "execution_count": 120,
   "id": "14c204db",
   "metadata": {},
   "outputs": [
    {
     "name": "stdout",
     "output_type": "stream",
     "text": [
      "Which data set do you want to use? 1 = Test, 2 = Input 2\n"
     ]
    }
   ],
   "source": [
    "data = 0\n",
    "while data not in [1, 2]:\n",
    "    data = int(input('Which data set do you want to use? 1 = Test, 2 = Input '))\n",
    "\n",
    "if data == 1:\n",
    "    fp = 'Test/'\n",
    "    fn = '2220test.txt'\n",
    "elif data == 2:\n",
    "    fp = 'Input/'\n",
    "    fn = '2220input.txt'\n",
    "\n",
    "f = open(fp + fn, 'r')\n",
    "raw = [int(j) for j in f.read().splitlines()]"
   ]
  },
  {
   "cell_type": "code",
   "execution_count": 121,
   "id": "1a3f5769",
   "metadata": {},
   "outputs": [],
   "source": [
    "from collections import deque"
   ]
  },
  {
   "cell_type": "code",
   "execution_count": 122,
   "id": "fe569b45",
   "metadata": {},
   "outputs": [],
   "source": [
    "idxd = {}\n",
    "\n",
    "for j, jv in enumerate(raw):\n",
    "    idxd[j] = jv"
   ]
  },
  {
   "cell_type": "code",
   "execution_count": 123,
   "id": "3aeb0d3c",
   "metadata": {},
   "outputs": [],
   "source": [
    "def move(dq, idx, mp):\n",
    "    dq.rotate(-dq.index(idx))\n",
    "    dq.popleft()\n",
    "    dq.rotate(-mp[idx])\n",
    "    dq.appendleft(idx)\n",
    "    return dq"
   ]
  },
  {
   "cell_type": "code",
   "execution_count": 124,
   "id": "803bff6e",
   "metadata": {},
   "outputs": [],
   "source": [
    "def translate(dq, mp):\n",
    "    res = deque([mp[i] for i in dq])\n",
    "    return res"
   ]
  },
  {
   "cell_type": "code",
   "execution_count": 125,
   "id": "ab1b046d",
   "metadata": {},
   "outputs": [],
   "source": [
    "lstByIdx = deque([j for j in range(0, len(idxd))])\n",
    "for i in idxd:\n",
    "    lstByIdx = move(lstByIdx, i, idxd)\n",
    "result = translate(lstByIdx, idxd)"
   ]
  },
  {
   "cell_type": "code",
   "execution_count": 126,
   "id": "a8f3997e",
   "metadata": {},
   "outputs": [],
   "source": [
    "def picker(result):\n",
    "    result.rotate(-result.index(0))\n",
    "    picks = []\n",
    "    for j in range(0,3):\n",
    "        result.rotate(-1000)\n",
    "        picks.append(result[0])\n",
    "    return picks"
   ]
  },
  {
   "cell_type": "code",
   "execution_count": 127,
   "id": "25c360e3",
   "metadata": {},
   "outputs": [
    {
     "name": "stdout",
     "output_type": "stream",
     "text": [
      "Part 1 Answer: 14526\n"
     ]
    }
   ],
   "source": [
    "print('Part 1 Answer: ' + str(sum(picker(result))))"
   ]
  },
  {
   "cell_type": "code",
   "execution_count": 128,
   "id": "aeaeb596",
   "metadata": {},
   "outputs": [],
   "source": [
    "for i in idxd:\n",
    "    idxd[i] *= 811589153"
   ]
  },
  {
   "cell_type": "code",
   "execution_count": 129,
   "id": "3ac006d4",
   "metadata": {},
   "outputs": [],
   "source": [
    "lstByIdx = deque([j for j in range(0, len(idxd))])\n",
    "\n",
    "for j in range(0, 10):\n",
    "    for i in idxd:\n",
    "        lstByIdx = move(lstByIdx, i, idxd)\n",
    "    result = translate(lstByIdx, idxd)"
   ]
  },
  {
   "cell_type": "code",
   "execution_count": 130,
   "id": "d6520d98",
   "metadata": {},
   "outputs": [
    {
     "name": "stdout",
     "output_type": "stream",
     "text": [
      "Part 2 Answer: 9738258246847\n"
     ]
    }
   ],
   "source": [
    "print('Part 2 Answer: ' + str(sum(picker(result))))"
   ]
  }
 ],
 "metadata": {
  "kernelspec": {
   "display_name": "Python 3 (ipykernel)",
   "language": "python",
   "name": "python3"
  },
  "language_info": {
   "codemirror_mode": {
    "name": "ipython",
    "version": 3
   },
   "file_extension": ".py",
   "mimetype": "text/x-python",
   "name": "python",
   "nbconvert_exporter": "python",
   "pygments_lexer": "ipython3",
   "version": "3.9.12"
  }
 },
 "nbformat": 4,
 "nbformat_minor": 5
}

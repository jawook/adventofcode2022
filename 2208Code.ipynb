{
 "cells": [
  {
   "cell_type": "markdown",
   "id": "af437080",
   "metadata": {},
   "source": [
    "# This cell is auto-generated."
   ]
  },
  {
   "cell_type": "code",
   "execution_count": 97,
   "id": "fedbecb1",
   "metadata": {},
   "outputs": [
    {
     "name": "stdout",
     "output_type": "stream",
     "text": [
      "Which data set do you want to use? 1 = Test, 2 = Input 2\n"
     ]
    }
   ],
   "source": [
    "data = 0\n",
    "while data not in [1, 2]:\n",
    "    data = int(input('Which data set do you want to use? 1 = Test, 2 = Input '))\n",
    "\n",
    "if data == 1:\n",
    "    fp = 'Test/'\n",
    "    fn = '2208test.txt'\n",
    "elif data == 2:\n",
    "    fp = 'Input/'\n",
    "    fn = '2208input.txt'\n",
    "\n",
    "f = open(fp + fn, 'r')\n",
    "raw = [j for j in f.read().splitlines()]"
   ]
  },
  {
   "cell_type": "code",
   "execution_count": 98,
   "id": "da8691b5",
   "metadata": {},
   "outputs": [],
   "source": [
    "import numpy as np"
   ]
  },
  {
   "cell_type": "code",
   "execution_count": 99,
   "id": "c0ebdf15",
   "metadata": {},
   "outputs": [
    {
     "data": {
      "text/plain": [
       "array([[3, 0, 0, ..., 2, 1, 1],\n",
       "       [1, 3, 3, ..., 0, 3, 0],\n",
       "       [2, 1, 3, ..., 1, 3, 3],\n",
       "       ...,\n",
       "       [3, 1, 0, ..., 1, 2, 1],\n",
       "       [0, 1, 2, ..., 2, 3, 0],\n",
       "       [3, 1, 1, ..., 0, 2, 2]])"
      ]
     },
     "execution_count": 99,
     "metadata": {},
     "output_type": "execute_result"
    }
   ],
   "source": [
    "raw = [[int(k) for k in j] for j in raw]\n",
    "valGrid = np.array(raw)\n",
    "valGrid"
   ]
  },
  {
   "cell_type": "code",
   "execution_count": 100,
   "id": "c4f80a82",
   "metadata": {},
   "outputs": [
    {
     "data": {
      "text/plain": [
       "array([[1, 1, 1, ..., 1, 1, 1],\n",
       "       [1, 0, 0, ..., 0, 0, 1],\n",
       "       [1, 0, 0, ..., 0, 0, 1],\n",
       "       ...,\n",
       "       [1, 0, 0, ..., 0, 0, 1],\n",
       "       [1, 0, 0, ..., 0, 0, 1],\n",
       "       [1, 1, 1, ..., 1, 1, 1]])"
      ]
     },
     "execution_count": 100,
     "metadata": {},
     "output_type": "execute_result"
    }
   ],
   "source": [
    "vizGrid = np.ones(valGrid.shape, dtype='int')\n",
    "vizGrid[1:-1, 1:-1] = 0\n",
    "vizGrid"
   ]
  },
  {
   "cell_type": "code",
   "execution_count": 101,
   "id": "e5c518c8",
   "metadata": {},
   "outputs": [],
   "source": [
    "for r in range(1, valGrid.shape[0]-1):\n",
    "    for c in range(1, valGrid.shape[1]-1):\n",
    "        val = valGrid[r, c]\n",
    "        up = valGrid[:r, c]\n",
    "        dn = valGrid[r+1:, c]\n",
    "        lf = valGrid[r, :c]\n",
    "        rt = valGrid[r, c+1:]\n",
    "#         print(val, [up, dn, rt, lf])\n",
    "#         print((up<val).all(), (dn<val).all(), (rt<val).all(), (lf<val).all())\n",
    "        if ((up<val).all() or (dn<val).all() or (rt<val).all() or (lf<val).all()):\n",
    "            vizGrid[r, c] = 1"
   ]
  },
  {
   "cell_type": "code",
   "execution_count": 102,
   "id": "6ce4cc6f",
   "metadata": {},
   "outputs": [
    {
     "data": {
      "text/plain": [
       "array([[1, 1, 1, ..., 1, 1, 1],\n",
       "       [1, 1, 1, ..., 0, 1, 1],\n",
       "       [1, 0, 1, ..., 0, 0, 1],\n",
       "       ...,\n",
       "       [1, 0, 0, ..., 0, 1, 1],\n",
       "       [1, 1, 1, ..., 1, 1, 1],\n",
       "       [1, 1, 1, ..., 1, 1, 1]])"
      ]
     },
     "execution_count": 102,
     "metadata": {},
     "output_type": "execute_result"
    }
   ],
   "source": [
    "vizGrid"
   ]
  },
  {
   "cell_type": "code",
   "execution_count": 103,
   "id": "897fdaea",
   "metadata": {},
   "outputs": [
    {
     "name": "stdout",
     "output_type": "stream",
     "text": [
      "Part 1 Answer: 1717\n"
     ]
    }
   ],
   "source": [
    "print('Part 1 Answer: ' + str(np.sum(vizGrid)))"
   ]
  },
  {
   "cell_type": "code",
   "execution_count": 104,
   "id": "e6c1bb09",
   "metadata": {},
   "outputs": [
    {
     "data": {
      "text/plain": [
       "array([[3, 0, 0, ..., 2, 1, 1],\n",
       "       [1, 3, 3, ..., 0, 3, 0],\n",
       "       [2, 1, 3, ..., 1, 3, 3],\n",
       "       ...,\n",
       "       [3, 1, 0, ..., 1, 2, 1],\n",
       "       [0, 1, 2, ..., 2, 3, 0],\n",
       "       [3, 1, 1, ..., 0, 2, 2]])"
      ]
     },
     "execution_count": 104,
     "metadata": {},
     "output_type": "execute_result"
    }
   ],
   "source": [
    "valGrid"
   ]
  },
  {
   "cell_type": "code",
   "execution_count": 105,
   "id": "829b0cc0",
   "metadata": {},
   "outputs": [],
   "source": [
    "def chkArray(array, val):\n",
    "    view = 0\n",
    "    for i in array:\n",
    "        if i < val:\n",
    "            view += 1\n",
    "        else:\n",
    "            view += 1\n",
    "            break\n",
    "    return view"
   ]
  },
  {
   "cell_type": "code",
   "execution_count": 106,
   "id": "4a6ab138",
   "metadata": {},
   "outputs": [
    {
     "data": {
      "text/plain": [
       "array([[ 0,  0,  0, ...,  0,  0,  0],\n",
       "       [ 0,  7,  6, ...,  1,  4,  0],\n",
       "       [ 0,  1, 64, ...,  4, 18,  0],\n",
       "       ...,\n",
       "       [ 0,  2,  1, ...,  4,  6,  0],\n",
       "       [ 0,  1,  8, ..., 12, 15,  0],\n",
       "       [ 0,  0,  0, ...,  0,  0,  0]])"
      ]
     },
     "execution_count": 106,
     "metadata": {},
     "output_type": "execute_result"
    }
   ],
   "source": [
    "scenGrid = np.zeros(valGrid.shape, dtype='int')\n",
    "for r in range(valGrid.shape[0]):\n",
    "    for c in range(0, valGrid.shape[1]):\n",
    "        val = valGrid[r, c]\n",
    "        up = np.flip(valGrid[:r, c])\n",
    "        dn = valGrid[r+1:, c]\n",
    "        lf = np.flip(valGrid[r, :c])\n",
    "        rt = valGrid[r, c+1:]\n",
    "        upView = chkArray(up, val)\n",
    "        dnView = chkArray(dn, val)\n",
    "        lfView = chkArray(lf, val)\n",
    "        rtView = chkArray(rt, val)\n",
    "#         print(val, [up, dn, rt, lf], [upView, dnView, lfView, rtView])\n",
    "        scenGrid[r, c] = upView * dnView * lfView * rtView\n",
    "scenGrid"
   ]
  },
  {
   "cell_type": "code",
   "execution_count": 107,
   "id": "8625791e",
   "metadata": {},
   "outputs": [
    {
     "name": "stdout",
     "output_type": "stream",
     "text": [
      "Part 2 Answer: 321975\n"
     ]
    }
   ],
   "source": [
    "print('Part 2 Answer: ' + str(np.max(scenGrid)))"
   ]
  }
 ],
 "metadata": {
  "kernelspec": {
   "display_name": "Python 3 (ipykernel)",
   "language": "python",
   "name": "python3"
  },
  "language_info": {
   "codemirror_mode": {
    "name": "ipython",
    "version": 3
   },
   "file_extension": ".py",
   "mimetype": "text/x-python",
   "name": "python",
   "nbconvert_exporter": "python",
   "pygments_lexer": "ipython3",
   "version": "3.9.12"
  }
 },
 "nbformat": 4,
 "nbformat_minor": 5
}

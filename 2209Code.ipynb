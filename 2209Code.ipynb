{
 "cells": [
  {
   "cell_type": "markdown",
   "id": "72bd58b5",
   "metadata": {},
   "source": [
    "# This cell is auto-generated."
   ]
  },
  {
   "cell_type": "code",
   "execution_count": null,
   "id": "d86704d9",
   "metadata": {},
   "outputs": [],
   "source": [
    "data = 0\n",
    "while data not in [1, 2]:\n",
    "    data = int(input('Which data set do you want to use? 1 = Test, 2 = Input '))\n",
    "\n",
    "if data == 1:\n",
    "    fp = 'Test/'\n",
    "    fn = '2209test.txt'\n",
    "elif data == 2:\n",
    "    fp = 'Input/'\n",
    "    fn = '2209input.txt'\n",
    "\n",
    "f = open(fp + fn, 'r')\n",
    "raw = [j for j in f.read().splitlines()]"
   ]
  }
 ],
 "metadata": {},
 "nbformat": 4,
 "nbformat_minor": 5
}

{
 "cells": [
  {
   "cell_type": "markdown",
   "id": "72bd58b5",
   "metadata": {},
   "source": [
    "# This cell is auto-generated."
   ]
  },
  {
   "cell_type": "code",
   "execution_count": 172,
   "id": "d86704d9",
   "metadata": {},
   "outputs": [
    {
     "name": "stdout",
     "output_type": "stream",
     "text": [
      "Which data set do you want to use? 1 = Test, 2 = Input 2\n"
     ]
    }
   ],
   "source": [
    "data = 0\n",
    "while data not in [1, 2]:\n",
    "    data = int(input('Which data set do you want to use? 1 = Test, 2 = Input '))\n",
    "\n",
    "if data == 1:\n",
    "    fp = 'Test/'\n",
    "    fn = '2209test.txt'\n",
    "elif data == 2:\n",
    "    fp = 'Input/'\n",
    "    fn = '2209input.txt'\n",
    "\n",
    "f = open(fp + fn, 'r')\n",
    "raw = [j.split() for j in f.read().splitlines()]"
   ]
  },
  {
   "cell_type": "code",
   "execution_count": 173,
   "id": "068ff77d",
   "metadata": {},
   "outputs": [],
   "source": [
    "dirs = [j[0] for j in raw]\n",
    "nums = [int(j[1]) for j in raw]"
   ]
  },
  {
   "cell_type": "code",
   "execution_count": 174,
   "id": "54079989",
   "metadata": {},
   "outputs": [],
   "source": [
    "hLoc = (0, 0)\n",
    "hHist = {(0, 0)}\n",
    "tLoc = (0, 0)\n",
    "tHist = {(0, 0)}\n",
    "\n",
    "dMap = {'R': {'x': 1, 'y': 0}, 'U': {'x': 0, 'y': 1}, 'L': {'x': -1, 'y': 0}, 'D': {'x': 0, 'y': -1}}"
   ]
  },
  {
   "cell_type": "code",
   "execution_count": 175,
   "id": "084c38a5",
   "metadata": {},
   "outputs": [],
   "source": [
    "def tmov(hLoc, tLoc):\n",
    "    if abs(hLoc[0] - tLoc[0])<=1 and abs(hLoc[1] - tLoc[1])<=1:\n",
    "        mov = (0, 0)\n",
    "    elif (hLoc[0] == tLoc[0]) or (hLoc[1] == tLoc[1]):\n",
    "        mov = ((hLoc[0] - tLoc[0]) / 2, (hLoc[1] - tLoc[1]) / 2)\n",
    "    elif (abs(hLoc[0] - tLoc[0]) > abs(hLoc[1] - tLoc[1])):\n",
    "        mov = ((hLoc[0] - tLoc[0]) / 2, hLoc[1] - tLoc[1])\n",
    "    elif (abs(hLoc[0] - tLoc[0]) == abs(hLoc[1] - tLoc[1])):\n",
    "        mov = ((hLoc[0] - tLoc[0]) / 2, (hLoc[1] - tLoc[1]) / 2)\n",
    "    else:\n",
    "        mov = (hLoc[0] - tLoc[0], (hLoc[1] - tLoc[1]) / 2)\n",
    "    return mov"
   ]
  },
  {
   "cell_type": "code",
   "execution_count": 176,
   "id": "e696502e",
   "metadata": {},
   "outputs": [],
   "source": [
    "for r in range(len(dirs)):\n",
    "    for j in range(nums[r]):\n",
    "        hLoc = (hLoc[0]+dMap[dirs[r]]['x'], hLoc[1]+dMap[dirs[r]]['y'])\n",
    "        hHist.add(hLoc)\n",
    "        mov = tmov(hLoc, tLoc)\n",
    "        tLoc = (int(tLoc[0]+mov[0]), int(tLoc[1]+mov[1]))\n",
    "        tHist.add(tLoc)"
   ]
  },
  {
   "cell_type": "code",
   "execution_count": 177,
   "id": "16fb24a3",
   "metadata": {},
   "outputs": [
    {
     "name": "stdout",
     "output_type": "stream",
     "text": [
      "Part 1 Answer: 6175\n"
     ]
    }
   ],
   "source": [
    "print('Part 1 Answer: ' + str(len(tHist)))"
   ]
  },
  {
   "cell_type": "code",
   "execution_count": 178,
   "id": "f71c3f72",
   "metadata": {},
   "outputs": [],
   "source": [
    "locLib = {}\n",
    "for j in range(10):\n",
    "    locLib[j] = {'loc': (0,0), 'locHist': {(0,0)}}"
   ]
  },
  {
   "cell_type": "code",
   "execution_count": 179,
   "id": "cf7b32c3",
   "metadata": {},
   "outputs": [],
   "source": [
    "for r in range(len(dirs)):\n",
    "    for j in range(nums[r]):\n",
    "        locLib[0]['loc'] = (locLib[0]['loc'][0]+dMap[dirs[r]]['x'], locLib[0]['loc'][1]+dMap[dirs[r]]['y'])\n",
    "        locLib[0]['locHist'].add(locLib[0]['loc'])\n",
    "        for k in range(1, len(locLib)):\n",
    "            mov = tmov(locLib[k-1]['loc'], locLib[k]['loc'])\n",
    "            locLib[k]['loc'] = (int(locLib[k]['loc'][0]+mov[0]), int(locLib[k]['loc'][1]+mov[1]))\n",
    "            locLib[k]['locHist'].add(locLib[k]['loc'])\n",
    "#         print([locLib[j]['loc'] for j in locLib])"
   ]
  },
  {
   "cell_type": "code",
   "execution_count": 180,
   "id": "67921e9a",
   "metadata": {},
   "outputs": [
    {
     "name": "stdout",
     "output_type": "stream",
     "text": [
      "Part 2 Answer: 2578\n"
     ]
    }
   ],
   "source": [
    "print('Part 2 Answer: ' + str(len(locLib[9]['locHist'])))"
   ]
  }
 ],
 "metadata": {
  "kernelspec": {
   "display_name": "Python 3 (ipykernel)",
   "language": "python",
   "name": "python3"
  },
  "language_info": {
   "codemirror_mode": {
    "name": "ipython",
    "version": 3
   },
   "file_extension": ".py",
   "mimetype": "text/x-python",
   "name": "python",
   "nbconvert_exporter": "python",
   "pygments_lexer": "ipython3",
   "version": "3.9.12"
  }
 },
 "nbformat": 4,
 "nbformat_minor": 5
}

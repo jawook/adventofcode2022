{
 "cells": [
  {
   "cell_type": "code",
   "execution_count": 6,
   "id": "fa6b8729",
   "metadata": {},
   "outputs": [
    {
     "name": "stdout",
     "output_type": "stream",
     "text": [
      "Which data set do you want to use? 1 = Test, 2 = Input 1\n"
     ]
    }
   ],
   "source": [
    "data = 0\n",
    "while data not in [1, 2]:\n",
    "    data = int(input('Which data set do you want to use? 1 = Test, 2 = Input '))\n",
    "\n",
    "if data == 1:\n",
    "    fp = 'Test/'\n",
    "    fn = '2213test.txt'\n",
    "elif data == 2:\n",
    "    fp = 'Input/'\n",
    "    fn = '2213input.txt'\n",
    "\n",
    "f = open(fp + fn, 'r')\n",
    "raw = [j for j in f.read().splitlines()]"
   ]
  },
  {
   "cell_type": "code",
   "execution_count": 8,
   "id": "bf1144dc",
   "metadata": {},
   "outputs": [],
   "source": [
    "import ast"
   ]
  },
  {
   "cell_type": "code",
   "execution_count": 9,
   "id": "02b928ee",
   "metadata": {},
   "outputs": [],
   "source": [
    "slm = [j for j in raw if j != '']\n",
    "lsts = [ast.literal_eval(j) for j in slm]\n",
    "paired = [(lsts[j], lsts[j+1]) for j in range(0, len(lsts), 2)]"
   ]
  },
  {
   "cell_type": "code",
   "execution_count": 14,
   "id": "9c9794e0",
   "metadata": {},
   "outputs": [],
   "source": [
    "def is_right_order(left, right):\n",
    "    # If both values are integers, compare them directly\n",
    "    if isinstance(left, int) and isinstance(right, int):\n",
    "        return left < right\n",
    "    # If both values are lists, compare their elements recursively\n",
    "    elif isinstance(left, list) and isinstance(right, list):\n",
    "        # Compare elements until we reach the end of one of the lists\n",
    "        for i in range(min(len(left), len(right))):\n",
    "            if not is_right_order(left[i], right[i]):\n",
    "                return False\n",
    "        # If the lists are the same length, then they are considered the same\n",
    "        return len(left) == len(right)\n",
    "    # If one value is an integer and the other is a list, convert the integer to a list and retry the comparison\n",
    "    else:\n",
    "        if isinstance(left, int):\n",
    "            left = [left]\n",
    "        else:\n",
    "            right = [right]\n",
    "        return is_right_order(left, right)"
   ]
  },
  {
   "cell_type": "code",
   "execution_count": 15,
   "id": "b5695d2a",
   "metadata": {},
   "outputs": [
    {
     "name": "stdout",
     "output_type": "stream",
     "text": [
      "0\n"
     ]
    }
   ],
   "source": [
    "def count_right_order_pairs(pairs):\n",
    "    # Initialize a counter for the number of right order pairs\n",
    "    right_order_count = 0\n",
    "    # Iterate through the pairs\n",
    "    for left, right in pairs:\n",
    "        # Increment the counter if the pair is in the right order\n",
    "        if is_right_order(left, right):\n",
    "            right_order_count += 1\n",
    "    # Return the counter\n",
    "    return right_order_count\n",
    "\n",
    "print(count_right_order_pairs(paired))  # Expected output: 4"
   ]
  },
  {
   "cell_type": "code",
   "execution_count": 16,
   "id": "63af48a9",
   "metadata": {},
   "outputs": [
    {
     "data": {
      "text/plain": [
       "[([1, 1, 3, 1, 1], [1, 1, 5, 1, 1]),\n",
       " ([[1], [2, 3, 4]], [[1], 4]),\n",
       " ([9], [[8, 7, 6]]),\n",
       " ([[4, 4], 4, 4], [[4, 4], 4, 4, 4]),\n",
       " ([7, 7, 7, 7], [7, 7, 7]),\n",
       " ([], [3]),\n",
       " ([[[]]], [[]]),\n",
       " ([1, [2, [3, [4, [5, 6, 7]]]], 8, 9], [1, [2, [3, [4, [5, 6, 0]]]], 8, 9])]"
      ]
     },
     "execution_count": 16,
     "metadata": {},
     "output_type": "execute_result"
    }
   ],
   "source": [
    "paired"
   ]
  },
  {
   "cell_type": "code",
   "execution_count": null,
   "id": "b1066311",
   "metadata": {},
   "outputs": [],
   "source": []
  }
 ],
 "metadata": {
  "kernelspec": {
   "display_name": "Python 3 (ipykernel)",
   "language": "python",
   "name": "python3"
  },
  "language_info": {
   "codemirror_mode": {
    "name": "ipython",
    "version": 3
   },
   "file_extension": ".py",
   "mimetype": "text/x-python",
   "name": "python",
   "nbconvert_exporter": "python",
   "pygments_lexer": "ipython3",
   "version": "3.9.12"
  }
 },
 "nbformat": 4,
 "nbformat_minor": 5
}

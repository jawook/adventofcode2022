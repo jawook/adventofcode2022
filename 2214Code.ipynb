{
 "cells": [
  {
   "cell_type": "markdown",
   "id": "5df73432",
   "metadata": {},
   "source": [
    "# This cell is auto-generated."
   ]
  },
  {
   "cell_type": "code",
   "execution_count": 300,
   "id": "e090a39d",
   "metadata": {},
   "outputs": [
    {
     "name": "stdout",
     "output_type": "stream",
     "text": [
      "Which data set do you want to use? 1 = Test, 2 = Input 2\n"
     ]
    }
   ],
   "source": [
    "data = 0\n",
    "while data not in [1, 2]:\n",
    "    data = int(input('Which data set do you want to use? 1 = Test, 2 = Input '))\n",
    "\n",
    "if data == 1:\n",
    "    fp = 'Test/'\n",
    "    fn = '2214test.txt'\n",
    "elif data == 2:\n",
    "    fp = 'Input/'\n",
    "    fn = '2214input.txt'\n",
    "\n",
    "f = open(fp + fn, 'r')\n",
    "raw = [j for j in f.read().splitlines()]"
   ]
  },
  {
   "cell_type": "code",
   "execution_count": 301,
   "id": "43659a96",
   "metadata": {},
   "outputs": [],
   "source": [
    "import numpy as np"
   ]
  },
  {
   "cell_type": "code",
   "execution_count": 302,
   "id": "a035c706",
   "metadata": {},
   "outputs": [],
   "source": [
    "coords = [i.split(' -> ') for i in raw]\n",
    "xMax = 0\n",
    "xMin = 1000000\n",
    "yMax = 0\n",
    "yMin = 1000000\n",
    "for c, coor in enumerate(coords):\n",
    "    for n, num in enumerate(coor):\n",
    "        sCoor = num.split(',')\n",
    "        coords[c][n] = [int(i) for i in sCoor]\n",
    "        xMax = max(xMax, coords[c][n][0])\n",
    "        xMin = min(xMin, coords[c][n][0])\n",
    "        yMax = max(yMax, coords[c][n][1])\n",
    "        yMin = min(yMin, coords[c][n][1])"
   ]
  },
  {
   "cell_type": "code",
   "execution_count": 303,
   "id": "1704c86d",
   "metadata": {},
   "outputs": [
    {
     "data": {
      "text/plain": [
       "(556, 482, 160, 13)"
      ]
     },
     "execution_count": 303,
     "metadata": {},
     "output_type": "execute_result"
    }
   ],
   "source": [
    "xMax, xMin, yMax, yMin"
   ]
  },
  {
   "cell_type": "code",
   "execution_count": 304,
   "id": "1bd3f01f",
   "metadata": {},
   "outputs": [],
   "source": [
    "grid = np.zeros((yMax+3, xMax+3), dtype='int')"
   ]
  },
  {
   "cell_type": "code",
   "execution_count": 305,
   "id": "d39597af",
   "metadata": {},
   "outputs": [],
   "source": [
    "def lnDraw(sCoord, eCoord):\n",
    "    global grid\n",
    "    sX = sCoord[0]\n",
    "    eX = eCoord[0]\n",
    "    sY = sCoord[1]\n",
    "    eY = eCoord[1]\n",
    "    xMax = max(sX, eX)\n",
    "    xMin = min(sX, eX)\n",
    "    yMax = max(sY, eY)\n",
    "    yMin = min(sY, eY)\n",
    "    grid[yMin:(yMax+1), xMin:(xMax+1)] = 1"
   ]
  },
  {
   "cell_type": "code",
   "execution_count": 306,
   "id": "b53baef6",
   "metadata": {},
   "outputs": [],
   "source": [
    "for l, line in enumerate(coords):\n",
    "    pts = len(line)\n",
    "    for j in range(0, pts-1):\n",
    "        lnDraw(coords[l][j], coords[l][j+1])\n",
    "#         print(str(coords[l][j]) + ' -> ' + str(coords[l][j+1]))"
   ]
  },
  {
   "cell_type": "code",
   "execution_count": 307,
   "id": "8590d886",
   "metadata": {},
   "outputs": [],
   "source": [
    "marCounter = 0\n",
    "def sand(sCoor):\n",
    "    global grid, marCounter\n",
    "#     print(sCoor)\n",
    "    if sCoor[0]==grid.shape[0]-1 or sCoor[1]==grid.shape[1]-1:\n",
    "        return 1\n",
    "    if grid[sCoor[0]+1, sCoor[1]] == 0:\n",
    "        return sand([sCoor[0]+1, sCoor[1]])\n",
    "    elif grid[sCoor[0]+1, sCoor[1]-1] == 0:\n",
    "        return sand([sCoor[0]+1, sCoor[1]-1])\n",
    "    elif grid[sCoor[0]+1, sCoor[1]+1] == 0:\n",
    "        return sand([sCoor[0]+1, sCoor[1]+1])\n",
    "    else:\n",
    "#         print('marked ' + str(sCoor))\n",
    "        grid[sCoor[0], sCoor[1]] = 2\n",
    "        marCounter += 1\n",
    "        return 0"
   ]
  },
  {
   "cell_type": "code",
   "execution_count": 308,
   "id": "77602cf4",
   "metadata": {},
   "outputs": [],
   "source": [
    "while sand([0, 500]) == 0:\n",
    "    continue"
   ]
  },
  {
   "cell_type": "code",
   "execution_count": 309,
   "id": "6d879802",
   "metadata": {},
   "outputs": [
    {
     "name": "stdout",
     "output_type": "stream",
     "text": [
      "Part 1 Answer: 901\n"
     ]
    }
   ],
   "source": [
    "print('Part 1 Answer: ' + str(marCounter))"
   ]
  },
  {
   "cell_type": "code",
   "execution_count": 310,
   "id": "abf2bdc1",
   "metadata": {},
   "outputs": [],
   "source": [
    "grid = np.zeros((yMax+3, xMax+500), dtype='int')"
   ]
  },
  {
   "cell_type": "code",
   "execution_count": 311,
   "id": "9058abdc",
   "metadata": {},
   "outputs": [],
   "source": [
    "for l, line in enumerate(coords):\n",
    "    pts = len(line)\n",
    "    for j in range(0, pts-1):\n",
    "        lnDraw(coords[l][j], coords[l][j+1])\n",
    "#         print(str(coords[l][j]) + ' -> ' + str(coords[l][j+1]))"
   ]
  },
  {
   "cell_type": "code",
   "execution_count": 312,
   "id": "f2e06888",
   "metadata": {},
   "outputs": [],
   "source": [
    "grid[yMax+2, :] = 1"
   ]
  },
  {
   "cell_type": "code",
   "execution_count": 313,
   "id": "a1217085",
   "metadata": {},
   "outputs": [],
   "source": [
    "marCounter = 0\n",
    "def sand2(sCoor):\n",
    "    global grid, marCounter\n",
    "#     print(sCoor)\n",
    "    if grid[sCoor[0]+1, sCoor[1]] == 0:\n",
    "        return sand2([sCoor[0]+1, sCoor[1]])\n",
    "    elif grid[sCoor[0]+1, sCoor[1]-1] == 0:\n",
    "        return sand2([sCoor[0]+1, sCoor[1]-1])\n",
    "    elif grid[sCoor[0]+1, sCoor[1]+1] == 0:\n",
    "        return sand2([sCoor[0]+1, sCoor[1]+1])\n",
    "    else:\n",
    "#         print('marked ' + str(sCoor))\n",
    "        grid[sCoor[0], sCoor[1]] = 2\n",
    "        marCounter += 1\n",
    "        if sCoor[0] == 0 and sCoor[1] == 500:\n",
    "            return 0\n",
    "        else: \n",
    "            return 1"
   ]
  },
  {
   "cell_type": "code",
   "execution_count": 314,
   "id": "0db7a946",
   "metadata": {},
   "outputs": [],
   "source": [
    "while sand2([0, 500]) == 1:\n",
    "    continue"
   ]
  },
  {
   "cell_type": "code",
   "execution_count": 315,
   "id": "e572875c",
   "metadata": {},
   "outputs": [
    {
     "name": "stdout",
     "output_type": "stream",
     "text": [
      "Part 2 Answer: 24589\n"
     ]
    }
   ],
   "source": [
    "print('Part 2 Answer: ' + str(marCounter))"
   ]
  },
  {
   "cell_type": "code",
   "execution_count": 317,
   "id": "479da53e",
   "metadata": {},
   "outputs": [],
   "source": [
    "np.savetxt('2214Output.csv', grid, delimiter=',', fmt=\"%s\")"
   ]
  }
 ],
 "metadata": {
  "kernelspec": {
   "display_name": "Python 3 (ipykernel)",
   "language": "python",
   "name": "python3"
  },
  "language_info": {
   "codemirror_mode": {
    "name": "ipython",
    "version": 3
   },
   "file_extension": ".py",
   "mimetype": "text/x-python",
   "name": "python",
   "nbconvert_exporter": "python",
   "pygments_lexer": "ipython3",
   "version": "3.9.12"
  }
 },
 "nbformat": 4,
 "nbformat_minor": 5
}

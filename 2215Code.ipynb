{
 "cells": [
  {
   "cell_type": "markdown",
   "id": "1f040363",
   "metadata": {},
   "source": [
    "# This cell is auto-generated."
   ]
  },
  {
   "cell_type": "code",
   "execution_count": 9,
   "id": "b8e20bdc",
   "metadata": {},
   "outputs": [
    {
     "name": "stdout",
     "output_type": "stream",
     "text": [
      "Which data set do you want to use? 1 = Test, 2 = Input 2\n"
     ]
    }
   ],
   "source": [
    "data = 0\n",
    "while data not in [1, 2]:\n",
    "    data = int(input('Which data set do you want to use? 1 = Test, 2 = Input '))\n",
    "\n",
    "if data == 1:\n",
    "    fp = 'Test/'\n",
    "    fn = '2215test.txt'\n",
    "elif data == 2:\n",
    "    fp = 'Input/'\n",
    "    fn = '2215input.txt'\n",
    "\n",
    "f = open(fp + fn, 'r')\n",
    "raw = [j for j in f.read().splitlines()]"
   ]
  },
  {
   "cell_type": "code",
   "execution_count": 10,
   "id": "a01feb3d",
   "metadata": {},
   "outputs": [],
   "source": [
    "import re\n",
    "import numpy as np"
   ]
  },
  {
   "cell_type": "code",
   "execution_count": 11,
   "id": "3383dd24",
   "metadata": {},
   "outputs": [],
   "source": [
    "sX = []\n",
    "sY = []\n",
    "bX = []\n",
    "bY = []\n",
    "for j in raw:\n",
    "    sX.append(re.findall(r'x=[\\-0-9]+', j)[0])\n",
    "    bX.append(re.findall(r'x=[\\-0-9]+', j)[1])\n",
    "    sY.append(re.findall(r'y=[\\-0-9]+', j)[0])\n",
    "    bY.append(re.findall(r'y=[\\-0-9]+', j)[1])"
   ]
  },
  {
   "cell_type": "code",
   "execution_count": 12,
   "id": "bf9aad00",
   "metadata": {},
   "outputs": [],
   "source": [
    "def strp(lst):\n",
    "    for c, coord in enumerate(lst):\n",
    "        lst[c] = int(re.sub(r'x=', '', re.sub(r'y=', '', coord)))\n",
    "    return lst"
   ]
  },
  {
   "cell_type": "code",
   "execution_count": 13,
   "id": "a5092a94",
   "metadata": {},
   "outputs": [],
   "source": [
    "for j in [sX, sY, bX, bY]:\n",
    "    j = strp(j)"
   ]
  },
  {
   "cell_type": "code",
   "execution_count": 14,
   "id": "eb429298",
   "metadata": {},
   "outputs": [],
   "source": [
    "if data == 1: lineNum = 10\n",
    "else: lineNum = 2000000"
   ]
  },
  {
   "cell_type": "code",
   "execution_count": 39,
   "id": "b85b013d",
   "metadata": {},
   "outputs": [],
   "source": [
    "def checkLine(lineNum, xCap, xFlr):\n",
    "    global sX, bX, sY, bY\n",
    "    invCoords = set()\n",
    "    for j, k in enumerate(bX):\n",
    "        dist = abs(sX[j] - bX[j]) + abs(sY[j] - bY[j])\n",
    "        y2Line = abs(sY[j] - lineNum)\n",
    "        if y2Line > dist:\n",
    "            continue\n",
    "        else:\n",
    "            minX = max(xFlr, sX[j] - (dist - y2Line))\n",
    "            maxX = min(sX[j] + (dist - y2Line), xCap)\n",
    "            invCoords.update(range(minX, maxX+1))\n",
    "        if bY[j] == lineNum:\n",
    "            invCoords.remove(bX[j])    \n",
    "    return len(invCoords)"
   ]
  },
  {
   "cell_type": "code",
   "execution_count": 40,
   "id": "5d939344",
   "metadata": {},
   "outputs": [
    {
     "name": "stdout",
     "output_type": "stream",
     "text": [
      "Part 1 Answer: 4951427\n"
     ]
    }
   ],
   "source": [
    "print('Part 1 Answer: ' + str(checkLine(lineNum, 100000000, -100000000)))"
   ]
  },
  {
   "cell_type": "code",
   "execution_count": 62,
   "id": "49beaf2b",
   "metadata": {},
   "outputs": [],
   "source": [
    "def checkLineB(lineNum, xCap, xFlr):\n",
    "    global sX, bX, sY, bY\n",
    "    spans = []\n",
    "    unions = []\n",
    "    for j, k in enumerate(bX):\n",
    "        dist = abs(sX[j] - bX[j]) + abs(sY[j] - bY[j])\n",
    "        y2Line = abs(sY[j] - lineNum)\n",
    "        if y2Line > dist:\n",
    "            continue\n",
    "        else:\n",
    "            minX = max(xFlr, sX[j] - (dist - y2Line))\n",
    "            maxX = min(sX[j] + (dist - y2Line), xCap)\n",
    "        spans.append((minX, maxX))\n",
    "    # nice little code below for finding intersections of multiple ranges of numbers from S/O https://stackoverflow.com/questions/15273693/union-of-multiple-ranges\n",
    "    for begin,end in sorted(spans):\n",
    "        if unions and unions[-1][1] >= begin - 1:\n",
    "            unions[-1][1] = max(unions[-1][1], end)\n",
    "        else:\n",
    "            unions.append([begin, end])\n",
    "    return unions"
   ]
  },
  {
   "cell_type": "code",
   "execution_count": 65,
   "id": "cba5a00d",
   "metadata": {},
   "outputs": [
    {
     "name": "stdout",
     "output_type": "stream",
     "text": [
      "line number is: 2573243\n"
     ]
    }
   ],
   "source": [
    "for l in range(0, 4000001):\n",
    "    lRes = checkLineB(l, 4000000, 0)\n",
    "    if lRes[0] != [0, 4000000]:\n",
    "        print('line number is: ' + str(l))\n",
    "        break"
   ]
  },
  {
   "cell_type": "code",
   "execution_count": 64,
   "id": "45d65159",
   "metadata": {},
   "outputs": [
    {
     "data": {
      "text/plain": [
       "[[0, 4000000]]"
      ]
     },
     "execution_count": 64,
     "metadata": {},
     "output_type": "execute_result"
    }
   ],
   "source": [
    "checkLineB(2, 4000000, 0)"
   ]
  },
  {
   "cell_type": "code",
   "execution_count": 66,
   "id": "1d1d093f",
   "metadata": {},
   "outputs": [
    {
     "data": {
      "text/plain": [
       "[[0, 3257427], [3257429, 4000000]]"
      ]
     },
     "execution_count": 66,
     "metadata": {},
     "output_type": "execute_result"
    }
   ],
   "source": [
    "checkLineB(2573243, 4000000, 0)"
   ]
  },
  {
   "cell_type": "code",
   "execution_count": 69,
   "id": "c0c5d22b",
   "metadata": {},
   "outputs": [
    {
     "name": "stdout",
     "output_type": "stream",
     "text": [
      "Part 2 Answer: 13029714573243\n"
     ]
    }
   ],
   "source": [
    "print('Part 2 Answer: ' + str(3257428 * 4000000 + l))"
   ]
  },
  {
   "cell_type": "code",
   "execution_count": null,
   "id": "54a73dba",
   "metadata": {},
   "outputs": [],
   "source": []
  }
 ],
 "metadata": {
  "kernelspec": {
   "display_name": "Python 3 (ipykernel)",
   "language": "python",
   "name": "python3"
  },
  "language_info": {
   "codemirror_mode": {
    "name": "ipython",
    "version": 3
   },
   "file_extension": ".py",
   "mimetype": "text/x-python",
   "name": "python",
   "nbconvert_exporter": "python",
   "pygments_lexer": "ipython3",
   "version": "3.9.12"
  }
 },
 "nbformat": 4,
 "nbformat_minor": 5
}

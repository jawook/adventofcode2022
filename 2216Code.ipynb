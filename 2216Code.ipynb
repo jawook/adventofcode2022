{
 "cells": [
  {
   "cell_type": "markdown",
   "id": "7c704a29",
   "metadata": {},
   "source": [
    "# This cell is auto-generated."
   ]
  },
  {
   "cell_type": "code",
   "execution_count": 6,
   "id": "3a821707",
   "metadata": {},
   "outputs": [
    {
     "name": "stdout",
     "output_type": "stream",
     "text": [
      "Which data set do you want to use? 1 = Test, 2 = Input 1\n"
     ]
    }
   ],
   "source": [
    "data = 0\n",
    "while data not in [1, 2]:\n",
    "    data = int(input('Which data set do you want to use? 1 = Test, 2 = Input '))\n",
    "\n",
    "if data == 1:\n",
    "    fp = 'Test/'\n",
    "    fn = '2216test.txt'\n",
    "elif data == 2:\n",
    "    fp = 'Input/'\n",
    "    fn = '2216input.txt'\n",
    "\n",
    "f = open(fp + fn, 'r')\n",
    "raw = [j for j in f.read().splitlines()]"
   ]
  },
  {
   "cell_type": "code",
   "execution_count": 7,
   "id": "bdbed9ba",
   "metadata": {},
   "outputs": [],
   "source": [
    "import re\n",
    "import networkx as nx"
   ]
  },
  {
   "cell_type": "code",
   "execution_count": 8,
   "id": "8891c12b",
   "metadata": {},
   "outputs": [],
   "source": [
    "sLocs = []\n",
    "fRate = []\n",
    "paths = []\n",
    "\n",
    "for r in raw:\n",
    "    sLocs.append(re.findall(r'Valve [A-Z][A-Z]', r)[0].strip('Valve '))\n",
    "    fRate.append(int(re.findall(r'=[0-9]+', r)[0].strip('=')))\n",
    "    paths.append(re.findall(r'valves? [A-Z,\\s]+', r)[0].strip('valves '))\n",
    "    \n",
    "paths = [p.strip('valve ') for p in paths]\n",
    "paths = [p.split(', ') for p in paths]"
   ]
  },
  {
   "cell_type": "code",
   "execution_count": 9,
   "id": "76db027e",
   "metadata": {},
   "outputs": [
    {
     "data": {
      "text/plain": [
       "(['AA', 'BB', 'CC', 'DD', 'EE', 'FF', 'GG', 'HH', 'II', 'JJ'],\n",
       " [0, 13, 2, 20, 3, 0, 0, 22, 0, 21],\n",
       " [['DD', 'II', 'BB'],\n",
       "  ['CC', 'AA'],\n",
       "  ['DD', 'BB'],\n",
       "  ['CC', 'AA', 'EE'],\n",
       "  ['FF', 'DD'],\n",
       "  ['EE', 'GG'],\n",
       "  ['FF', 'HH'],\n",
       "  ['GG'],\n",
       "  ['AA', 'JJ'],\n",
       "  ['II']])"
      ]
     },
     "execution_count": 9,
     "metadata": {},
     "output_type": "execute_result"
    }
   ],
   "source": [
    "sLocs, fRate, paths"
   ]
  },
  {
   "cell_type": "code",
   "execution_count": 18,
   "id": "4c01d442",
   "metadata": {},
   "outputs": [],
   "source": [
    "nDict = {}\n",
    "for l, r, p in zip(sLocs, fRate, paths):\n",
    "    nDict[l] = {'rate': r, 'paths': p, 'valve': 0}"
   ]
  },
  {
   "cell_type": "code",
   "execution_count": 19,
   "id": "15660d46",
   "metadata": {},
   "outputs": [],
   "source": [
    "pathLists = []\n",
    "\n",
    "def brancher1(nDict, pthToHere, mn, curLoc):\n",
    "    global pathLists\n",
    "    if mn > 30:\n",
    "        pathLists.append(pthToHere)\n",
    "        return\n",
    "    for p in nDict[curLoc]['paths']:\n",
    "        move1(nDict, pthToHere, mn, p)\n",
    "    if nDict[curLoc]['valve'] == 0:\n",
    "        open1(nDict, pthToHere, mn, curLoc)\n",
    "    wait1(nDict, pthToHere, mn, curLoc)"
   ]
  },
  {
   "cell_type": "code",
   "execution_count": 20,
   "id": "8b0f746e",
   "metadata": {},
   "outputs": [],
   "source": [
    "def move1(nDict, pthToHere, mn, dest):\n",
    "    mn += 1\n",
    "    pthToHere.append(dest)\n",
    "    curLoc = dest\n",
    "    brancher1(nDict, pthToHere, mn, curLoc)"
   ]
  },
  {
   "cell_type": "code",
   "execution_count": 21,
   "id": "842b5c2b",
   "metadata": {},
   "outputs": [],
   "source": [
    "def open1(nDict, pthToHere, mn, curLoc):\n",
    "    mn += 1\n",
    "    pthToHere.append('_o_' + str(curLoc))\n",
    "    nDict[curLoc]['valve'] = 1\n",
    "    brancher1(nDict, pthToHere, mn, curLoc)    "
   ]
  },
  {
   "cell_type": "code",
   "execution_count": 22,
   "id": "46aa9e4f",
   "metadata": {},
   "outputs": [],
   "source": [
    "def wait1(nDict, pthToHere, mn, curLoc):\n",
    "    mn += 1\n",
    "    pthToHere.append('_w_' + str(curLoc))\n",
    "    brancher1(nDict, pthToHere, mn, curLoc)"
   ]
  },
  {
   "cell_type": "code",
   "execution_count": null,
   "id": "2150a20e",
   "metadata": {},
   "outputs": [],
   "source": [
    "brancher1(nDict, [], 0, 'AA')"
   ]
  },
  {
   "cell_type": "code",
   "execution_count": 26,
   "id": "bebc761c",
   "metadata": {},
   "outputs": [
    {
     "data": {
      "text/plain": [
       "{'AA': {'rate': 0, 'paths': ['DD', 'II', 'BB'], 'valve': 1},\n",
       " 'BB': {'rate': 13, 'paths': ['CC', 'AA'], 'valve': 1},\n",
       " 'CC': {'rate': 2, 'paths': ['DD', 'BB'], 'valve': 1},\n",
       " 'DD': {'rate': 20, 'paths': ['CC', 'AA', 'EE'], 'valve': 1},\n",
       " 'EE': {'rate': 3, 'paths': ['FF', 'DD'], 'valve': 1},\n",
       " 'FF': {'rate': 0, 'paths': ['EE', 'GG'], 'valve': 1},\n",
       " 'GG': {'rate': 0, 'paths': ['FF', 'HH'], 'valve': 1},\n",
       " 'HH': {'rate': 22, 'paths': ['GG'], 'valve': 1},\n",
       " 'II': {'rate': 0, 'paths': ['AA', 'JJ'], 'valve': 1},\n",
       " 'JJ': {'rate': 21, 'paths': ['II'], 'valve': 1}}"
      ]
     },
     "execution_count": 26,
     "metadata": {},
     "output_type": "execute_result"
    }
   ],
   "source": [
    "nDict"
   ]
  },
  {
   "cell_type": "code",
   "execution_count": 25,
   "id": "ba30b27c",
   "metadata": {},
   "outputs": [],
   "source": [
    "# This is too recursive, there are too many paths."
   ]
  },
  {
   "cell_type": "code",
   "execution_count": 27,
   "id": "7072f9c8",
   "metadata": {},
   "outputs": [
    {
     "data": {
      "text/plain": [
       "141620721"
      ]
     },
     "execution_count": 27,
     "metadata": {},
     "output_type": "execute_result"
    }
   ],
   "source": [
    "len(pathLists)"
   ]
  },
  {
   "cell_type": "code",
   "execution_count": null,
   "id": "c63fbbba",
   "metadata": {},
   "outputs": [],
   "source": []
  }
 ],
 "metadata": {
  "kernelspec": {
   "display_name": "Python 3 (ipykernel)",
   "language": "python",
   "name": "python3"
  },
  "language_info": {
   "codemirror_mode": {
    "name": "ipython",
    "version": 3
   },
   "file_extension": ".py",
   "mimetype": "text/x-python",
   "name": "python",
   "nbconvert_exporter": "python",
   "pygments_lexer": "ipython3",
   "version": "3.9.12"
  }
 },
 "nbformat": 4,
 "nbformat_minor": 5
}

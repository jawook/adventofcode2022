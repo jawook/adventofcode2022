{
 "cells": [
  {
   "cell_type": "markdown",
   "id": "20b239f8",
   "metadata": {},
   "source": [
    "# This cell is auto-generated."
   ]
  },
  {
   "cell_type": "code",
   "execution_count": 81,
   "id": "2b294d9d",
   "metadata": {},
   "outputs": [
    {
     "name": "stdout",
     "output_type": "stream",
     "text": [
      "Which data set do you want to use? 1 = Test, 2 = Input 1\n"
     ]
    }
   ],
   "source": [
    "data = 0\n",
    "while data not in [1, 2]:\n",
    "    data = int(input('Which data set do you want to use? 1 = Test, 2 = Input '))\n",
    "\n",
    "if data == 1:\n",
    "    fp = 'Test/'\n",
    "    fn = '2213test.txt'\n",
    "elif data == 2:\n",
    "    fp = 'Input/'\n",
    "    fn = '2213input.txt'\n",
    "\n",
    "f = open(fp + fn, 'r')\n",
    "raw = [j for j in f.read().splitlines()]"
   ]
  },
  {
   "cell_type": "code",
   "execution_count": 82,
   "id": "792b5173",
   "metadata": {},
   "outputs": [],
   "source": [
    "import ast"
   ]
  },
  {
   "cell_type": "code",
   "execution_count": 83,
   "id": "a04cce3f",
   "metadata": {},
   "outputs": [],
   "source": [
    "slm = [j for j in raw if j != '']\n",
    "lsts = [ast.literal_eval(j) for j in slm]\n",
    "paired = [(lsts[j], lsts[j+1]) for j in range(0, len(lsts), 2)]"
   ]
  },
  {
   "cell_type": "code",
   "execution_count": 84,
   "id": "4ffe8807",
   "metadata": {},
   "outputs": [
    {
     "data": {
      "text/plain": [
       "[([1, 1, 3, 1, 1], [1, 1, 5, 1, 1]),\n",
       " ([[1], [2, 3, 4]], [[1], 4]),\n",
       " ([9], [[8, 7, 6]]),\n",
       " ([[4, 4], 4, 4], [[4, 4], 4, 4, 4]),\n",
       " ([7, 7, 7, 7], [7, 7, 7]),\n",
       " ([], [3]),\n",
       " ([[[]]], [[]]),\n",
       " ([1, [2, [3, [4, [5, 6, 7]]]], 8, 9], [1, [2, [3, [4, [5, 6, 0]]]], 8, 9])]"
      ]
     },
     "execution_count": 84,
     "metadata": {},
     "output_type": "execute_result"
    }
   ],
   "source": [
    "paired"
   ]
  },
  {
   "cell_type": "code",
   "execution_count": 85,
   "id": "fc6eb666",
   "metadata": {},
   "outputs": [],
   "source": [
    "def checker(pair):\n",
    "    left = pair[0]\n",
    "    rght = pair[1]\n",
    "    print('run checker: ' + str((left, rght)))\n",
    "    if len(left) == 0 and len(rght) > 0:\n",
    "        print('left list exhausted prior to right, correct order')\n",
    "        return 1\n",
    "    elif len(rght) == 0 and len(left) > 0:\n",
    "        print('right list exhausted prior to left, incorrect order')\n",
    "        return 0\n",
    "    if isinstance(left[0], int) and isinstance(rght[0], int):\n",
    "        if left[0] > rght[0]:\n",
    "            print('left int greater than right int, incorrect order')\n",
    "            return 0\n",
    "        elif left[0] < rght[0]:\n",
    "            print('right int greater than left int, correct order')\n",
    "            return 1\n",
    "        else:\n",
    "            return checker((left[1:], rght[1:]))\n",
    "    elif isinstance(left[0], int): # left is int, right is list\n",
    "        print('converted left int to list')\n",
    "        return listChecker(([[left[0]] + left[1:]], rght)) # convert the left int to a list\n",
    "    elif isinstance(rght[0], int): # right is int, left is list\n",
    "        print('converted right int to list')\n",
    "        return listChecker((left, ([[rght[0]] + rght[1:]]))) # convert the right int to a list\n",
    "    else: # both entries are lists\n",
    "        print('both are lists')\n",
    "        return listChecker(pair)\n",
    "        \n",
    "def listChecker(pair):\n",
    "    left = pair[0][0]\n",
    "    rght = pair[1][0]\n",
    "    print(left, rght)\n",
    "    if len(left) == 0 and len(rght) == 0:\n",
    "        print('left and right lists are empty')\n",
    "        return checker((left[1:], rght[1:]))\n",
    "    elif len(left) == 0 and len(rght) > 0:\n",
    "        print('left list exhausted first, correct order')\n",
    "        return 1\n",
    "    elif len(rght) == 0 and len(left) > 0:\n",
    "        print('right list exhausted first, incorrect order')\n",
    "        return 0\n",
    "    if isinstance(left[0], int) and isinstance(rght[0], int):\n",
    "        if left[0] > rght[0]:\n",
    "            print('left list component greater, incorrect order')\n",
    "            return 0\n",
    "        elif left[0] < rght[0]:\n",
    "            print('right list component greater, correct order')\n",
    "            return 1\n",
    "        else:\n",
    "            if len(left) > 1 and len(rght) > 1:\n",
    "                print('list tie, first item a list: ' + str((pair[0][0][1:] + pair[0][1:], pair[1][0][1:] + pair[1][1:])))\n",
    "                return checker((pair[0][0][1:] + pair[0][1:], pair[1][0][1:] + pair[1][1:]))\n",
    "            else:\n",
    "                print('list tie, first item not a list: ' + str((pair[0][1:], pair[1][1:])))\n",
    "                return checker((pair[0][1:], pair[1][1:]))"
   ]
  },
  {
   "cell_type": "code",
   "execution_count": 86,
   "id": "b1fd6114",
   "metadata": {},
   "outputs": [
    {
     "name": "stdout",
     "output_type": "stream",
     "text": [
      "run checker: ([1, 1, 3, 1, 1], [1, 1, 5, 1, 1])\n",
      "run checker: ([1, 3, 1, 1], [1, 5, 1, 1])\n",
      "run checker: ([3, 1, 1], [5, 1, 1])\n",
      "right int greater than left int, correct order\n",
      "run checker: ([[1], [2, 3, 4]], [[1], 4])\n",
      "both are lists\n",
      "[1] [1]\n",
      "list tie, first item not a list: ([[2, 3, 4]], [4])\n",
      "run checker: ([[2, 3, 4]], [4])\n",
      "converted right int to list\n",
      "[2, 3, 4] [4]\n",
      "right list component greater, correct order\n",
      "run checker: ([9], [[8, 7, 6]])\n",
      "converted left int to list\n",
      "[9] [8, 7, 6]\n",
      "left list component greater, incorrect order\n",
      "run checker: ([[4, 4], 4, 4], [[4, 4], 4, 4, 4])\n",
      "both are lists\n",
      "[4, 4] [4, 4]\n",
      "list tie, first item a list: ([4, 4, 4], [4, 4, 4, 4])\n",
      "run checker: ([4, 4, 4], [4, 4, 4, 4])\n",
      "run checker: ([4, 4], [4, 4, 4])\n",
      "run checker: ([4], [4, 4])\n",
      "run checker: ([], [4])\n",
      "left list exhausted prior to right, correct order\n",
      "run checker: ([7, 7, 7, 7], [7, 7, 7])\n",
      "run checker: ([7, 7, 7], [7, 7])\n",
      "run checker: ([7, 7], [7])\n",
      "run checker: ([7], [])\n",
      "right list exhausted prior to left, incorrect order\n",
      "run checker: ([], [3])\n",
      "left list exhausted prior to right, correct order\n",
      "run checker: ([[[]]], [[]])\n",
      "both are lists\n",
      "[[]] []\n",
      "right list exhausted first, incorrect order\n",
      "run checker: ([1, [2, [3, [4, [5, 6, 7]]]], 8, 9], [1, [2, [3, [4, [5, 6, 0]]]], 8, 9])\n",
      "run checker: ([[2, [3, [4, [5, 6, 7]]]], 8, 9], [[2, [3, [4, [5, 6, 0]]]], 8, 9])\n",
      "both are lists\n",
      "[2, [3, [4, [5, 6, 7]]]] [2, [3, [4, [5, 6, 0]]]]\n",
      "list tie, first item a list: ([[3, [4, [5, 6, 7]]], 8, 9], [[3, [4, [5, 6, 0]]], 8, 9])\n",
      "run checker: ([[3, [4, [5, 6, 7]]], 8, 9], [[3, [4, [5, 6, 0]]], 8, 9])\n",
      "both are lists\n",
      "[3, [4, [5, 6, 7]]] [3, [4, [5, 6, 0]]]\n",
      "list tie, first item a list: ([[4, [5, 6, 7]], 8, 9], [[4, [5, 6, 0]], 8, 9])\n",
      "run checker: ([[4, [5, 6, 7]], 8, 9], [[4, [5, 6, 0]], 8, 9])\n",
      "both are lists\n",
      "[4, [5, 6, 7]] [4, [5, 6, 0]]\n",
      "list tie, first item a list: ([[5, 6, 7], 8, 9], [[5, 6, 0], 8, 9])\n",
      "run checker: ([[5, 6, 7], 8, 9], [[5, 6, 0], 8, 9])\n",
      "both are lists\n",
      "[5, 6, 7] [5, 6, 0]\n",
      "list tie, first item a list: ([6, 7, 8, 9], [6, 0, 8, 9])\n",
      "run checker: ([6, 7, 8, 9], [6, 0, 8, 9])\n",
      "run checker: ([7, 8, 9], [0, 8, 9])\n",
      "left int greater than right int, incorrect order\n"
     ]
    }
   ],
   "source": [
    "gdLists = {1:[], 0:[]}\n",
    "\n",
    "for p, pair in enumerate(paired):\n",
    "    res = checker(pair)\n",
    "    if res == 1: gdLists[1].append(p+1)\n",
    "    else: gdLists[0].append(p+1)"
   ]
  },
  {
   "cell_type": "code",
   "execution_count": 87,
   "id": "fb478533",
   "metadata": {},
   "outputs": [
    {
     "data": {
      "text/plain": [
       "13"
      ]
     },
     "execution_count": 87,
     "metadata": {},
     "output_type": "execute_result"
    }
   ],
   "source": [
    "sum(gdLists[1])"
   ]
  },
  {
   "cell_type": "code",
   "execution_count": 88,
   "id": "3a13751e",
   "metadata": {},
   "outputs": [
    {
     "data": {
      "text/plain": [
       "{1: [1, 2, 4, 6], 0: [3, 5, 7, 8]}"
      ]
     },
     "execution_count": 88,
     "metadata": {},
     "output_type": "execute_result"
    }
   ],
   "source": [
    "gdLists"
   ]
  },
  {
   "cell_type": "code",
   "execution_count": null,
   "id": "89bd11ef",
   "metadata": {},
   "outputs": [],
   "source": []
  }
 ],
 "metadata": {
  "kernelspec": {
   "display_name": "Python 3 (ipykernel)",
   "language": "python",
   "name": "python3"
  },
  "language_info": {
   "codemirror_mode": {
    "name": "ipython",
    "version": 3
   },
   "file_extension": ".py",
   "mimetype": "text/x-python",
   "name": "python",
   "nbconvert_exporter": "python",
   "pygments_lexer": "ipython3",
   "version": "3.9.12"
  }
 },
 "nbformat": 4,
 "nbformat_minor": 5
}

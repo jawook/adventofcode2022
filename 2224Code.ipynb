{
 "cells": [
  {
   "cell_type": "markdown",
   "id": "809ea0a5",
   "metadata": {},
   "source": [
    "# This cell is auto-generated."
   ]
  },
  {
   "cell_type": "code",
   "execution_count": 383,
   "id": "4d6644e0",
   "metadata": {},
   "outputs": [
    {
     "name": "stdout",
     "output_type": "stream",
     "text": [
      "Which data set do you want to use? 1 = Test, 2 = Input 2\n"
     ]
    }
   ],
   "source": [
    "data = 0\n",
    "while data not in [1, 2]:\n",
    "    data = int(input('Which data set do you want to use? 1 = Test, 2 = Input '))\n",
    "\n",
    "if data == 1:\n",
    "    fp = 'Test/'\n",
    "    fn = '2224test.txt'\n",
    "elif data == 2:\n",
    "    fp = 'Input/'\n",
    "    fn = '2224input.txt'\n",
    "\n",
    "f = open(fp + fn, 'r')\n",
    "raw = [j for j in f.read().splitlines()]"
   ]
  },
  {
   "cell_type": "code",
   "execution_count": 384,
   "id": "3dc4b07e",
   "metadata": {},
   "outputs": [
    {
     "data": {
      "text/plain": [
       "['#.########################################################################################################################',\n",
       " '#<.>^^^v^^^^<^><>^v^<v<>>v<<<v.vv<<v<v>v.>>>^<<>.<>.v>^v<.v<^^<^<<v.v>><v<>^^^v^.^>.<>vvv>v>>v><v^^>^<^vv>^>v>>^v^>v>^>><#',\n",
       " '#>^<^<^<^v^..>^<<>v^>^^<<v^>>vv<>.^.v<^<^..^vv.>>>>v^v>>v^..<>.><v>>^^>vv>.v.>><vv<vv^<v<^^><><.^^.^v.<^^<<..>v<>vv>^>^><#',\n",
       " '#..v^^^<^>.>><vv..><vv>^v^>v<v.>^<>>^^<^v>.v>^.>>.<>>v.>.v<>^^<^<vv<>^v<<v^<><.v<<vv>^><<<^^>.<<><v<^^><<><.^<^><>v<vvv.>#',\n",
       " '#<^<^v>v^<v<<>vvv^^v^>^.<<><v>><v.^.v.>v..>>^<><<>v.v><^v<<.<><><><<^v.<^>>v^v^vvv><vv<.><.^<vv^^<>>.>>^^v>v^^vv<v<<v><<>#',\n",
       " '#<.v>>vv<<vv.v<>^v<^^>>>^<v^>>^vv^vv.>v.>><<v^^<<^<v.^>^<.^>vv^^vv<<>v><^<>.>><^vvv>.>><<vv<vv^vv<^vv>>..^<>>^<vvv><<<^^<#',\n",
       " '#>v^>.<<>vvvv<v^<>^<^v<v<<>v^<>^<<v<>v>.v<vv.v<.^>^><<vv<^..^>>^>>^^^<<^v>^<>^>>.>>^v.>^>vv.<.v><^v<^.v.vv^<>^>v.v.><^>>>#',\n",
       " '#.>.>^<>^<>><>^.^v<<v<>^>^^<>v<.><^<.v><^v^.v^><>v<>^^^v^vv<.<<vv>v<<<<><<..^^><>^<>v>v.^vv^><.v^vv<v<<>>v^v^^^<^^.><^<^<#',\n",
       " '#<><.^>>><>v<v<>.v.^>v^>.>^v>^^>^^.v>^vv<<<^.v>^>v><<^>v<v>^.>>>>v^<vv<v^>v<<v^<<^.><<<<.>v^>>v><>.<><.^<<>>^v^>>^>>^vv<>#',\n",
       " '#<v^^^<<v.>.<>v^v^v^^><<.^<<>^><v>v<>^<<<^>v.>v^<<^^^v<<>^<>>^>^<.^v^>>>.^v^<<^><<<^>.<v>^v>^^v<^v..vv.<.^<.v.^v>>v<.<.^>#',\n",
       " '#<.<^^v<>^^v<>^<.v<^.^vv^><v<>>.><^>v<^>^><vv><vvvv><.<<><^>^^..<v^v>v>^v<<vv^vv<^^^v>v<^v>vvv^<^>>v^<vv^^vv<<v.^^>^<.>v>#',\n",
       " '#<v<^^v<v^v>v^v^>>^<v<<>^<^<.><^^^.v>>vv<^><^v<^.^vv^^<<<v>.^.vv<^>^<vv<v<..v^^.^>^^v>v>.vv.v^v<<>><v<^<<v<^>>vv>.<^^<v>>#',\n",
       " '#><v^>^><v<.>.^v^^vv<<<^<<>vv^.v^v^^v<<<<v.v>vv^<.>v^<<<.v<^><^<<..>v.><^v^>v^>.<>v<<><<^^^.>^.^<>^<^>>>>><<vvv.^vvvv^.>>#',\n",
       " '#<v>>>v^>^<^>vv^>^^^^v.^><v<v.>^<v<<>^>^^v^v.^^^><vv>v><..^vv>>vv.<^v^vv^><<<v>v^v>^>^v>>><<.v^<^^.<>>><<>v><^<><.>v<^<v<#',\n",
       " '#<>.>v^<><>.<<<><v^^v^v><<<>vv><.^>v><<<v.v<<^>vvvv^<v><>.>>^><>^v<v><.v^^v>vv><^^v^>.>>^v.^<vv>>.>^<<<<v<^>v><<<<^><^v>>#',\n",
       " '#.v<>v^^<>v><^v<<^^^.^v.>^^>^^<>^>^^vvv^^^^^v.^<>v<>^>^>vv..<^^^v>v^>^^^v>><^><^.^<><v>>^><^<^vv.<>..^>>.<^.^><^v>>v>v^v>#',\n",
       " '#><<^vv<<^^>v<v<^><v><v.vvv>.^<<>.>^^^>>>^^.>^>v^^v>^><<<.<<v^><>^vv>>v>><>v>.<^..><^.v^>><<>>^v^<^..^v><^v.vv><v^>^>v<v>#',\n",
       " '#<^vv.vv<^v^.^<.<v>vv>v^>v.v<v>v<^>^<>.<>^<.^^^v^v^>>v<<.><v>^<v<<vv<><<v^.vv><v^<v^>v>>.>^<^^vv>v>>v^^><^<v^^<vv^<>vv>><#',\n",
       " '#>^v^<.^<>>^^><>><v^^v>.<<<<v<>v<<v<..>.vv<>^^v<v..vv^v>.v<>>^.<v^.>>vv>>v..<v><v^^>^<v.^^vv>v^.<^<^<v^v.>^<^v<<><v><v^<.#',\n",
       " '#>^^v^>>><<<^vv>^>.<<vvvvv<v>><<>v>>><.<><.<^>^vv.<.<<<^...^v>>^vvv.^v<vvv.v^.^<<v^v<^^>^.^><vv^v<>^>v<^<v.>.<^v<<.^v^^><#',\n",
       " '#>^^v^>>^v>^>v<.>vv<..^<v<<^<vv^>>^v><vv^^<<^<v><<v<^^^<v^vv>^>>.^<^><^>^<v<>v^<vv<>v<<vv<<^v^<vv<.>vvv>.v><<>v>^.^>v<^>>#',\n",
       " '#<>.>v^><><<^.>vvv^^<<<^vv><v.<<<..<>v><v>><>^.><><v><^^^><vv..^>^><^.^^^vv.<^^^<v<<^.v>>.>>v^v^v^v..^>vv>>^^^>>v^<v<<<.<#',\n",
       " '#<><<>^<.^><><^..v.><v^..v<><<vvv<^<vv.>.^^.^^v<>^vv.>^.<....<.v>><.^^<vvv^^^^v>^.>>^^v>.v^>>.^><^><v><><<><><^v>.^.v^<^.#',\n",
       " '#<>^<^<vvv><<..<><>><<<<^^v<^^^>v^.v^v^vv.^v>>><<.v..^^v<^^>v>>>^v^.>^>^v<v<^.v<^v>><v^>v><^^>>v<v>v^.>>v.vv>^^<v^>>>.>><#',\n",
       " '#<v^<>^^v^^><v^^^^.v>v.^><.>v^v>.^<..>>v>.>.v><.^^.^<.^<vvv<>^<^.v<v<<<>vvv>..<^<<..^><<^>>v<>^v><^>^>v<<>^v<v^>^^.^<>v>.#',\n",
       " '#>^>>v^<vvv^>>>v>v>^>>^<>>^>>^>v^>>>>^v><^v^<^>v<>>vv.<^vv<^v>^<v<>>.>vv<<^>>><^^<<vv>^>^<>.<<^>.><<^^<v^>^<<>>>>.v.>...<#',\n",
       " '########################################################################################################################.#']"
      ]
     },
     "execution_count": 384,
     "metadata": {},
     "output_type": "execute_result"
    }
   ],
   "source": [
    "raw"
   ]
  },
  {
   "cell_type": "code",
   "execution_count": 385,
   "id": "c7980dad",
   "metadata": {},
   "outputs": [],
   "source": [
    "import numpy as np\n",
    "from copy import deepcopy"
   ]
  },
  {
   "cell_type": "code",
   "execution_count": 386,
   "id": "ac824f87",
   "metadata": {},
   "outputs": [],
   "source": [
    "entry = (0, raw[0].index('.'))\n",
    "exit = (len(raw) - 1, raw[len(raw) - 1].index('.'))\n",
    "minRow = 0\n",
    "minCol = 0\n",
    "maxRow = len(raw) - 1\n",
    "maxCol = len(raw[0]) - 1"
   ]
  },
  {
   "cell_type": "code",
   "execution_count": 387,
   "id": "b5b98bbf",
   "metadata": {},
   "outputs": [],
   "source": [
    "def stmover(currLoc, dirTravel):\n",
    "    global minRow, minCol, maxRow, maxCol\n",
    "    proposed = tuple(np.add(currLoc, dirTravel))\n",
    "    if proposed[0] == maxRow:\n",
    "        proposed = (minRow+1, proposed[1])\n",
    "    elif proposed[0] == minRow:\n",
    "        proposed = (maxRow-1, proposed[1])\n",
    "    elif proposed[1] == maxCol:\n",
    "        proposed = (proposed[0], minCol+1)\n",
    "    elif proposed[1] == minCol:\n",
    "        proposed = (proposed[0], maxCol-1)\n",
    "    return proposed"
   ]
  },
  {
   "cell_type": "code",
   "execution_count": 388,
   "id": "a513bae4",
   "metadata": {},
   "outputs": [],
   "source": [
    "storms = {}\n",
    "stIndex = 0\n",
    "for r, row in enumerate(raw):\n",
    "    for c, col in enumerate(np.fromiter(row, (str, 1))):\n",
    "        if col == '#' or col == '.':\n",
    "            continue\n",
    "        else:\n",
    "            storms[stIndex] = {}\n",
    "            storms[stIndex]['startLoc'] = (r, c)\n",
    "            storms[stIndex]['currLoc'] = (r, c)\n",
    "            if col == '>':\n",
    "                storms[stIndex]['dirTravel'] = (0, 1)\n",
    "            elif col == '<':\n",
    "                storms[stIndex]['dirTravel'] = (0, -1)\n",
    "            elif col == 'v':\n",
    "                storms[stIndex]['dirTravel'] = (1, 0)\n",
    "            elif col == '^':\n",
    "                storms[stIndex]['dirTravel'] = (-1, 0)\n",
    "            # below line needs to be able to handle moving off screen\n",
    "            storms[stIndex]['nextLoc'] = stmover(storms[stIndex]['currLoc'], \n",
    "                                                 storms[stIndex]['dirTravel'])\n",
    "            stIndex += 1"
   ]
  },
  {
   "cell_type": "code",
   "execution_count": 389,
   "id": "3190659c",
   "metadata": {},
   "outputs": [],
   "source": [
    "journeys = [entry]"
   ]
  },
  {
   "cell_type": "markdown",
   "id": "fcf4b93b",
   "metadata": {},
   "source": [
    "for each item in journeys, evaluate all of the possible moves from that location"
   ]
  },
  {
   "cell_type": "code",
   "execution_count": 390,
   "id": "0604698f",
   "metadata": {},
   "outputs": [],
   "source": [
    "def elfMover(currLoc):\n",
    "    global minRow, minCol, maxRow, maxCol, entry, exit\n",
    "    possibilities = [(0, 1), (0, -1), (0, 0), (1, 0), (-1, 0)]\n",
    "    allMoves = []\n",
    "    for p in possibilities:\n",
    "        allMoves.append(tuple(np.add(currLoc, p)))\n",
    "    valMoves = []\n",
    "    for m in allMoves:\n",
    "        if m[0]>minRow and m[0]<maxRow and m[1]>minCol and m[1]<maxCol:\n",
    "            valMoves.append(m)\n",
    "        if m == entry or m == exit:\n",
    "            valMoves.append(m)\n",
    "    return valMoves"
   ]
  },
  {
   "cell_type": "code",
   "execution_count": 391,
   "id": "1e6fa76d",
   "metadata": {},
   "outputs": [],
   "source": [
    "def addMoves(journeys, storms):\n",
    "    global minRow, minCol, maxRow, maxCol\n",
    "    newJourneys = []\n",
    "    for j in journeys:\n",
    "#         print('j = ' + str(j))\n",
    "        valMoves = elfMover(j)\n",
    "        for m in valMoves:\n",
    "#             print('m = ' + str(m))\n",
    "            if not m in set([storms[x]['nextLoc'] for x in storms]):\n",
    "                newJourneys.append(m)\n",
    "    return set(newJourneys)"
   ]
  },
  {
   "cell_type": "code",
   "execution_count": 392,
   "id": "986bc2f0",
   "metadata": {},
   "outputs": [],
   "source": [
    "def advStorms(storms):\n",
    "    for s in storms:\n",
    "        storms[s]['currLoc'] = storms[s]['nextLoc']\n",
    "    for s in storms:        \n",
    "        storms[s]['nextLoc'] = stmover(storms[s]['currLoc'],\n",
    "                                       storms[s]['dirTravel'])\n",
    "    return storms"
   ]
  },
  {
   "cell_type": "code",
   "execution_count": 393,
   "id": "404db079",
   "metadata": {},
   "outputs": [],
   "source": [
    "def runValley(journeys, storms):\n",
    "    mins = 0\n",
    "    global exit, entry\n",
    "    while True:\n",
    "        journeys = addMoves(journeys, storms)\n",
    "        storms = advStorms(storms)\n",
    "        mins += 1\n",
    "#         print('Mins: ' + str(mins))\n",
    "        if (exit[0]-1, exit[1]) in set(journeys):\n",
    "            mins += 1\n",
    "            storms = advStorms(storms)\n",
    "            print('Minutes to reach first exit: ' + str(mins))\n",
    "            journeys = [exit]\n",
    "            while True:\n",
    "                journeys = addMoves(journeys, storms)\n",
    "                storms = advStorms(storms)\n",
    "                mins += 1\n",
    "#                 print('Mins: ' + str(mins))\n",
    "                if (entry[0]+1, entry[1]) in set(journeys):\n",
    "                    mins += 1\n",
    "                    storms = advStorms(storms)\n",
    "                    print('Minutes to return to exit: ' + str(mins))\n",
    "                    journeys = [entry]\n",
    "                    while True:\n",
    "                        journeys = addMoves(journeys, storms)\n",
    "                        storms = advStorms(storms)\n",
    "                        mins += 1\n",
    "#                         print('Mins: ' + str(mins))  \n",
    "                        if (exit[0]-1, exit[1]) in set(journeys):\n",
    "                            mins += 1\n",
    "                            storms = advStorms(storms)\n",
    "                            print('Minutes to reach second exit: ' + str(mins))\n",
    "                            return"
   ]
  },
  {
   "cell_type": "code",
   "execution_count": 394,
   "id": "3b5c4068",
   "metadata": {},
   "outputs": [
    {
     "name": "stdout",
     "output_type": "stream",
     "text": [
      "Minutes to reach first exit: 290\n",
      "Minutes to return to exit: 562\n",
      "Minutes to reach second exit: 842\n"
     ]
    }
   ],
   "source": [
    "runValley(journeys, storms)"
   ]
  }
 ],
 "metadata": {
  "kernelspec": {
   "display_name": "Python 3 (ipykernel)",
   "language": "python",
   "name": "python3"
  },
  "language_info": {
   "codemirror_mode": {
    "name": "ipython",
    "version": 3
   },
   "file_extension": ".py",
   "mimetype": "text/x-python",
   "name": "python",
   "nbconvert_exporter": "python",
   "pygments_lexer": "ipython3",
   "version": "3.9.12"
  }
 },
 "nbformat": 4,
 "nbformat_minor": 5
}

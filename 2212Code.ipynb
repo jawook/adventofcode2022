{
 "cells": [
  {
   "cell_type": "markdown",
   "id": "d0a44f0d",
   "metadata": {},
   "source": [
    "# This cell is auto-generated."
   ]
  },
  {
   "cell_type": "code",
   "execution_count": 42,
   "id": "841b8cfa",
   "metadata": {
    "scrolled": true
   },
   "outputs": [
    {
     "name": "stdout",
     "output_type": "stream",
     "text": [
      "Which data set do you want to use? 1 = Test, 2 = Input 2\n"
     ]
    }
   ],
   "source": [
    "data = 0\n",
    "while data not in [1, 2]:\n",
    "    data = int(input('Which data set do you want to use? 1 = Test, 2 = Input '))\n",
    "\n",
    "if data == 1:\n",
    "    fp = 'Test/'\n",
    "    fn = '2212test.txt'\n",
    "elif data == 2:\n",
    "    fp = 'Input/'\n",
    "    fn = '2212input.txt'\n",
    "\n",
    "f = open(fp + fn, 'r')\n",
    "raw = [j for j in f.read().splitlines()]"
   ]
  },
  {
   "cell_type": "code",
   "execution_count": 43,
   "id": "c7191b25",
   "metadata": {},
   "outputs": [],
   "source": [
    "import numpy as np"
   ]
  },
  {
   "cell_type": "code",
   "execution_count": 44,
   "id": "750f27a2",
   "metadata": {},
   "outputs": [
    {
     "data": {
      "text/plain": [
       "array([['a', 'b', 'c', ..., 'a', 'a', 'a'],\n",
       "       ['a', 'b', 'c', ..., 'a', 'a', 'a'],\n",
       "       ['a', 'b', 'c', ..., 'a', 'a', 'a'],\n",
       "       ...,\n",
       "       ['a', 'b', 'c', ..., 'c', 'a', 'a'],\n",
       "       ['a', 'b', 'c', ..., 'a', 'a', 'a'],\n",
       "       ['a', 'b', 'c', ..., 'a', 'a', 'a']], dtype='<U1')"
      ]
     },
     "execution_count": 44,
     "metadata": {},
     "output_type": "execute_result"
    }
   ],
   "source": [
    "grid = np.array([[j for j in line] for line in raw])\n",
    "grid"
   ]
  },
  {
   "cell_type": "code",
   "execution_count": 45,
   "id": "6338d772",
   "metadata": {},
   "outputs": [],
   "source": [
    "import networkx as nx\n",
    "import matplotlib as plt"
   ]
  },
  {
   "cell_type": "code",
   "execution_count": 46,
   "id": "87b4ad80",
   "metadata": {},
   "outputs": [],
   "source": [
    "converter = lambda t: ord(t)\n",
    "vfunc = np.vectorize(converter)\n",
    "numGrid = vfunc(grid)\n",
    "numGrid[numGrid==ord('S')] = ord('a')\n",
    "numGrid[numGrid==ord('E')] = ord('z')"
   ]
  },
  {
   "cell_type": "code",
   "execution_count": 47,
   "id": "335993cf",
   "metadata": {},
   "outputs": [],
   "source": [
    "G = nx.DiGraph()\n",
    "for r, row in enumerate(grid):\n",
    "    for i, item in enumerate(row):\n",
    "        G.add_node((r, i), char=item, num=numGrid[r][i])"
   ]
  },
  {
   "cell_type": "code",
   "execution_count": 48,
   "id": "9d0624ef",
   "metadata": {
    "scrolled": true
   },
   "outputs": [
    {
     "data": {
      "text/plain": [
       "array([[97, 98, 99, ..., 97, 97, 97],\n",
       "       [97, 98, 99, ..., 97, 97, 97],\n",
       "       [97, 98, 99, ..., 97, 97, 97],\n",
       "       ...,\n",
       "       [97, 98, 99, ..., 99, 97, 97],\n",
       "       [97, 98, 99, ..., 97, 97, 97],\n",
       "       [97, 98, 99, ..., 97, 97, 97]])"
      ]
     },
     "execution_count": 48,
     "metadata": {},
     "output_type": "execute_result"
    }
   ],
   "source": [
    "numGrid"
   ]
  },
  {
   "cell_type": "code",
   "execution_count": 49,
   "id": "a815124f",
   "metadata": {},
   "outputs": [],
   "source": [
    "def pxlChecker(r, c, numGrid):\n",
    "    chkVal = numGrid[r][c]\n",
    "#     print(chkVal)\n",
    "    padGrid = np.pad(numGrid, 1, constant_values=1000)\n",
    "    conCoords = []\n",
    "    rMov = [-1, 1, 0, 0]\n",
    "    cMov = [0, 0, -1, 1]\n",
    "    for rM, cM in zip(rMov, cMov):\n",
    "#         print(r + rM + 1, c + cM + 1)\n",
    "#         print(padGrid[r + rM + 1, c + cM + 1])\n",
    "        if padGrid[r + rM + 1, c + cM + 1] <= chkVal + 1:\n",
    "            conCoords.append((r + rM, c + cM))\n",
    "    return conCoords"
   ]
  },
  {
   "cell_type": "code",
   "execution_count": 50,
   "id": "b224da85",
   "metadata": {},
   "outputs": [],
   "source": [
    "for r, row in enumerate(grid):\n",
    "    for i, item in enumerate(row):\n",
    "        toAdd = pxlChecker(r, i, numGrid)\n",
    "        G.add_edges_from([((r,i), p) for p in toAdd])"
   ]
  },
  {
   "cell_type": "code",
   "execution_count": 51,
   "id": "28d53f73",
   "metadata": {},
   "outputs": [
    {
     "name": "stdout",
     "output_type": "stream",
     "text": [
      "Part 1 Answer: 468\n"
     ]
    }
   ],
   "source": [
    "startPt = np.where(grid=='S')\n",
    "endPt = np.where(grid=='E')\n",
    "\n",
    "pathLen = len(nx.shortest_path(G, source=(startPt[0][0], startPt[1][0]),\n",
    "                               target=(endPt[0][0], endPt[1][0])))\n",
    "print('Part 1 Answer: ' + str(pathLen-1))"
   ]
  },
  {
   "cell_type": "code",
   "execution_count": 63,
   "id": "8af316e2",
   "metadata": {},
   "outputs": [
    {
     "name": "stdout",
     "output_type": "stream",
     "text": [
      "Part 2 Answer: 459\n"
     ]
    }
   ],
   "source": [
    "aList = np.where(grid=='a')\n",
    "aCoor = [x for x in zip(aList[0], aList[1])]\n",
    "pathLens = []\n",
    "for i, j in zip(aList[0], aList[1]):\n",
    "    if nx.has_path(G, source=(i, j), target=(endPt[0][0], endPt[1][0])): \n",
    "        pathLens.append(len(nx.shortest_path(G, source=(i, j), \n",
    "                                             target=(endPt[0][0], endPt[1][0]))))\n",
    "print('Part 2 Answer: ' + str(min(pathLens)-1))"
   ]
  }
 ],
 "metadata": {
  "kernelspec": {
   "display_name": "Python 3 (ipykernel)",
   "language": "python",
   "name": "python3"
  },
  "language_info": {
   "codemirror_mode": {
    "name": "ipython",
    "version": 3
   },
   "file_extension": ".py",
   "mimetype": "text/x-python",
   "name": "python",
   "nbconvert_exporter": "python",
   "pygments_lexer": "ipython3",
   "version": "3.9.12"
  }
 },
 "nbformat": 4,
 "nbformat_minor": 5
}

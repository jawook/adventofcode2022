{
 "cells": [
  {
   "cell_type": "markdown",
   "id": "ca059652",
   "metadata": {},
   "source": [
    "# This cell is auto-generated."
   ]
  },
  {
   "cell_type": "code",
   "execution_count": 275,
   "id": "8c624a4b",
   "metadata": {},
   "outputs": [
    {
     "name": "stdout",
     "output_type": "stream",
     "text": [
      "Which data set do you want to use? 1 = Test, 2 = Input 1\n"
     ]
    }
   ],
   "source": [
    "data = 0\n",
    "while data not in [1, 2]:\n",
    "    data = int(input('Which data set do you want to use? 1 = Test, 2 = Input '))\n",
    "\n",
    "if data == 1:\n",
    "    fp = 'Test/'\n",
    "    fn = '2217test.txt'\n",
    "elif data == 2:\n",
    "    fp = 'Input/'\n",
    "    fn = '2217input.txt'\n",
    "\n",
    "f = open(fp + fn, 'r')\n",
    "raw = [j for j in f.read().splitlines()]"
   ]
  },
  {
   "cell_type": "code",
   "execution_count": 276,
   "id": "96e16ad4",
   "metadata": {},
   "outputs": [],
   "source": [
    "from collections import deque\n",
    "import numpy as np\n"
   ]
  },
  {
   "cell_type": "code",
   "execution_count": 277,
   "id": "c0837ecf",
   "metadata": {},
   "outputs": [],
   "source": [
    "def initBlock(starters, blocked):\n",
    "    if not blocked:\n",
    "        initX = 2\n",
    "        initY = 3\n",
    "    else:\n",
    "        initX = 2\n",
    "        initY = max([j[1] for j in blocked]) + 4\n",
    "    return [(j[0]+initX, j[1]+initY) for j in starters[0]]"
   ]
  },
  {
   "cell_type": "code",
   "execution_count": 278,
   "id": "f36611f9",
   "metadata": {},
   "outputs": [],
   "source": [
    "def jet(jets, blocked, coord):\n",
    "    if jets[0] == '>':\n",
    "        tempC = [(j[0]+1, j[1]) for j in coord]\n",
    "    else:\n",
    "        tempC = [(j[0]-1, j[1]) for j in coord]\n",
    "    maxX = max([j[0] for j in tempC])\n",
    "    minX = min([j[0] for j in tempC])\n",
    "    if maxX <= 6 and minX >= 0:\n",
    "        if len(set(tempC).intersection(blocked)) == 0:\n",
    "            coord = tempC.copy()\n",
    "    return coord"
   ]
  },
  {
   "cell_type": "code",
   "execution_count": 279,
   "id": "34a136e7",
   "metadata": {},
   "outputs": [],
   "source": [
    "def drop(blocked, coord):\n",
    "    tempC = [(j[0], j[1]-1) for j in coord]\n",
    "    minY = min([j[1] for j in tempC])\n",
    "    if minY >= 0:\n",
    "        if len(set(tempC).intersection(blocked)) == 0:\n",
    "            coord = tempC.copy()\n",
    "            return (0, coord)\n",
    "    return (1, coord)"
   ]
  },
  {
   "cell_type": "code",
   "execution_count": 280,
   "id": "9f9c9495",
   "metadata": {},
   "outputs": [],
   "source": [
    "def runner(jets, starters, num):\n",
    "    blocked = set()\n",
    "    for j in range(num):\n",
    "        coord = initBlock(starters, blocked)\n",
    "    #     print(coord)\n",
    "        starters.rotate(-1)\n",
    "        while True:\n",
    "            coord = jet(jets, blocked, coord)\n",
    "    #         print(coord)\n",
    "            jets.rotate(-1)\n",
    "            tryDrop = drop(blocked, coord)\n",
    "    #         print(tryDrop)\n",
    "            if tryDrop[0] == 1:\n",
    "                blocked.update(coord)\n",
    "                break\n",
    "            else:\n",
    "                coord = tryDrop[1]\n",
    "    return (max([j[1] for j in blocked]) + 1, blocked)"
   ]
  },
  {
   "cell_type": "code",
   "execution_count": 281,
   "id": "d3a90cb7",
   "metadata": {},
   "outputs": [],
   "source": [
    "jets = deque([j for j in raw[0]])\n",
    "# coordinate system is X, Y\n",
    "starters = deque([[(0, 0), (1, 0), (2, 0), (3,0)], #_\n",
    "                  [(1, 0), (0, 1), (1, 1), (2, 1), (1, 2)], #+\n",
    "                  [(0, 0), (1, 0), (2, 0), (2, 1), (2, 2)], #J\n",
    "                  [(0, 0), (0, 1), (0, 2), (0, 3)], #|\n",
    "                  [(0, 0), (1, 0), (0, 1), (1, 1)]]) #square"
   ]
  },
  {
   "cell_type": "code",
   "execution_count": 282,
   "id": "749788e9",
   "metadata": {},
   "outputs": [
    {
     "name": "stdout",
     "output_type": "stream",
     "text": [
      "Part 1 Answer: 3068\n"
     ]
    }
   ],
   "source": [
    "print('Part 1 Answer: ' + str(runner(jets, starters, 2022)[0]))"
   ]
  },
  {
   "cell_type": "code",
   "execution_count": 371,
   "id": "363a6962",
   "metadata": {},
   "outputs": [
    {
     "data": {
      "text/plain": [
       "39"
      ]
     },
     "execution_count": 371,
     "metadata": {},
     "output_type": "execute_result"
    }
   ],
   "source": [
    "import math\n",
    "lcmStJe = math.lcm(len(starters), len(jets))-1\n",
    "lcmStJe"
   ]
  },
  {
   "cell_type": "code",
   "execution_count": 372,
   "id": "629c8e4a",
   "metadata": {},
   "outputs": [
    {
     "data": {
      "text/plain": [
       "(25641025641, 1)"
      ]
     },
     "execution_count": 372,
     "metadata": {},
     "output_type": "execute_result"
    }
   ],
   "source": [
    "num = 1000000000000 // (lcmStJe)\n",
    "rem = 1000000000000 % (lcmStJe)\n",
    "num, rem"
   ]
  },
  {
   "cell_type": "code",
   "execution_count": 373,
   "id": "39ead98a",
   "metadata": {},
   "outputs": [],
   "source": [
    "hgtLcm2 = runner(jets.copy(), starters.copy(), lcmStJe)[0]\n",
    "hgtLcmAddl = runner(jets.copy(), starters.copy(), lcmStJe * 2)[0] - hgtLcm2\n",
    "base = hgtLcm1 + ((num-1) * hgtLcmSub)\n",
    "if rem == 0:\n",
    "    extra = 0\n",
    "else:\n",
    "    extra = runner(jets.copy(), starters.copy(), rem)[0]\n",
    "total = base + extra"
   ]
  },
  {
   "cell_type": "code",
   "execution_count": 378,
   "id": "468cc4a1",
   "metadata": {},
   "outputs": [
    {
     "name": "stdout",
     "output_type": "stream",
     "text": [
      "Part 2 Answer: 1410256410261\n"
     ]
    }
   ],
   "source": [
    "print('Part 2 Answer: ' + str(total))"
   ]
  },
  {
   "cell_type": "code",
   "execution_count": null,
   "id": "c0ef3397",
   "metadata": {},
   "outputs": [],
   "source": [
    "# Got stuck here.  Need to find a way to locate a pattern and "
   ]
  }
 ],
 "metadata": {
  "kernelspec": {
   "display_name": "Python 3 (ipykernel)",
   "language": "python",
   "name": "python3"
  },
  "language_info": {
   "codemirror_mode": {
    "name": "ipython",
    "version": 3
   },
   "file_extension": ".py",
   "mimetype": "text/x-python",
   "name": "python",
   "nbconvert_exporter": "python",
   "pygments_lexer": "ipython3",
   "version": "3.9.12"
  }
 },
 "nbformat": 4,
 "nbformat_minor": 5
}

{
 "cells": [
  {
   "cell_type": "markdown",
   "id": "812fdfde",
   "metadata": {},
   "source": [
    "# This cell is auto-generated."
   ]
  },
  {
   "cell_type": "code",
   "execution_count": 93,
   "id": "567bd9fe",
   "metadata": {},
   "outputs": [
    {
     "name": "stdout",
     "output_type": "stream",
     "text": [
      "Which data set do you want to use? 1 = Test, 2 = Input 2\n"
     ]
    }
   ],
   "source": [
    "data = 0\n",
    "while data not in [1, 2]:\n",
    "    data = int(input('Which data set do you want to use? 1 = Test, 2 = Input '))\n",
    "\n",
    "if data == 1:\n",
    "    fp = 'Test/'\n",
    "    fn = '2206test.txt'\n",
    "elif data == 2:\n",
    "    fp = 'Input/'\n",
    "    fn = '2206input.txt'\n",
    "\n",
    "f = open(fp + fn, 'r')\n",
    "raw = f.read()"
   ]
  },
  {
   "cell_type": "code",
   "execution_count": 94,
   "id": "c52a965a",
   "metadata": {},
   "outputs": [],
   "source": [
    "import re\n",
    "seqLen = 4"
   ]
  },
  {
   "cell_type": "code",
   "execution_count": 160,
   "id": "00a9c508",
   "metadata": {
    "scrolled": true
   },
   "outputs": [
    {
     "name": "stdout",
     "output_type": "stream",
     "text": [
      "Part 1 Answer: 1287\n"
     ]
    }
   ],
   "source": [
    "def findMarker(chars, numChar):\n",
    "    numStr = []\n",
    "    strngs = []\n",
    "    for j in range(2, numChar + 1):\n",
    "        numStr.append(re.sub('a', '\\\\\\\\', '|'.join(['a' + str(i) for i in range(1, j)])))\n",
    "    for n in numStr:\n",
    "        strngs.append('(.)(?!' + str(n) + ')')\n",
    "    pat = ''.join(strngs)\n",
    "    m = re.search(str(pat), chars)\n",
    "    return m.end() + 1\n",
    "print('Part 1 Answer: ' + str(findMarker(raw, 4)))"
   ]
  },
  {
   "cell_type": "code",
   "execution_count": 161,
   "id": "724710ac",
   "metadata": {},
   "outputs": [
    {
     "name": "stdout",
     "output_type": "stream",
     "text": [
      "Part 2 Answer: 3716\n"
     ]
    }
   ],
   "source": [
    "print('Part 2 Answer: ' + str(findMarker(raw, 14)))"
   ]
  },
  {
   "cell_type": "code",
   "execution_count": 154,
   "id": "cd097a5a",
   "metadata": {},
   "outputs": [],
   "source": [
    "numStr = []\n",
    "strngs = []\n",
    "for j in range(2, 4):\n",
    "    numStr.append(re.sub('a', '\\\\\\\\', '|'.join(['a' + str(i) for i in range(1, j)])))\n",
    "for n in numStr:\n",
    "    strngs.append('(.)(?!' + str(n) + ')')"
   ]
  },
  {
   "cell_type": "code",
   "execution_count": 155,
   "id": "2c627a22",
   "metadata": {},
   "outputs": [
    {
     "data": {
      "text/plain": [
       "['(.)(?!\\\\1)', '(.)(?!\\\\1|\\\\2)']"
      ]
     },
     "execution_count": 155,
     "metadata": {},
     "output_type": "execute_result"
    }
   ],
   "source": [
    "strngs"
   ]
  },
  {
   "cell_type": "code",
   "execution_count": 142,
   "id": "729ceb5e",
   "metadata": {},
   "outputs": [
    {
     "name": "stdout",
     "output_type": "stream",
     "text": [
      "(.)(?!\\1)\n",
      "(.)(?!\\1|\\2)\n"
     ]
    }
   ],
   "source": [
    "for j in strngs:\n",
    "    print(j)"
   ]
  },
  {
   "cell_type": "code",
   "execution_count": 143,
   "id": "dc310420",
   "metadata": {},
   "outputs": [],
   "source": [
    "x = ''.join(strngs)"
   ]
  },
  {
   "cell_type": "code",
   "execution_count": 144,
   "id": "60dde693",
   "metadata": {},
   "outputs": [
    {
     "data": {
      "text/plain": [
       "'(.)(?!\\\\1)(.)(?!\\\\1|\\\\2)'"
      ]
     },
     "execution_count": 144,
     "metadata": {},
     "output_type": "execute_result"
    }
   ],
   "source": [
    "x"
   ]
  },
  {
   "cell_type": "code",
   "execution_count": 145,
   "id": "1b5139bb",
   "metadata": {},
   "outputs": [
    {
     "name": "stdout",
     "output_type": "stream",
     "text": [
      "(.)(?!\\1)(.)(?!\\1|\\2)\n"
     ]
    }
   ],
   "source": [
    "print(x)"
   ]
  },
  {
   "cell_type": "code",
   "execution_count": 146,
   "id": "5d8cafb9",
   "metadata": {},
   "outputs": [
    {
     "data": {
      "text/plain": [
       "'\\\\\\\\'"
      ]
     },
     "execution_count": 146,
     "metadata": {},
     "output_type": "execute_result"
    }
   ],
   "source": [
    "r\"\\\\\""
   ]
  },
  {
   "cell_type": "code",
   "execution_count": 149,
   "id": "7973e78e",
   "metadata": {},
   "outputs": [
    {
     "data": {
      "text/plain": [
       "'\\\\\\\\\\\\\\\\'"
      ]
     },
     "execution_count": 149,
     "metadata": {},
     "output_type": "execute_result"
    }
   ],
   "source": [
    "r'\\\\\\\\'"
   ]
  },
  {
   "cell_type": "code",
   "execution_count": null,
   "id": "3f96fa40",
   "metadata": {},
   "outputs": [],
   "source": []
  }
 ],
 "metadata": {
  "kernelspec": {
   "display_name": "Python 3 (ipykernel)",
   "language": "python",
   "name": "python3"
  },
  "language_info": {
   "codemirror_mode": {
    "name": "ipython",
    "version": 3
   },
   "file_extension": ".py",
   "mimetype": "text/x-python",
   "name": "python",
   "nbconvert_exporter": "python",
   "pygments_lexer": "ipython3",
   "version": "3.9.12"
  }
 },
 "nbformat": 4,
 "nbformat_minor": 5
}

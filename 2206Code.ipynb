{
 "cells": [
  {
   "cell_type": "markdown",
   "id": "812fdfde",
   "metadata": {},
   "source": [
    "# This cell is auto-generated."
   ]
  },
  {
   "cell_type": "code",
   "execution_count": 93,
   "id": "567bd9fe",
   "metadata": {},
   "outputs": [
    {
     "name": "stdout",
     "output_type": "stream",
     "text": [
      "Which data set do you want to use? 1 = Test, 2 = Input 2\n"
     ]
    }
   ],
   "source": [
    "data = 0\n",
    "while data not in [1, 2]:\n",
    "    data = int(input('Which data set do you want to use? 1 = Test, 2 = Input '))\n",
    "\n",
    "if data == 1:\n",
    "    fp = 'Test/'\n",
    "    fn = '2206test.txt'\n",
    "elif data == 2:\n",
    "    fp = 'Input/'\n",
    "    fn = '2206input.txt'\n",
    "\n",
    "f = open(fp + fn, 'r')\n",
    "raw = f.read()"
   ]
  },
  {
   "cell_type": "code",
   "execution_count": 94,
   "id": "851a8278",
   "metadata": {},
   "outputs": [],
   "source": [
    "import re\n",
    "seqLen = 4"
   ]
  },
  {
   "cell_type": "code",
   "execution_count": 160,
   "id": "0e4d1c36",
   "metadata": {
    "scrolled": true
   },
   "outputs": [
    {
     "name": "stdout",
     "output_type": "stream",
     "text": [
      "Part 1 Answer: 1287\n"
     ]
    }
   ],
   "source": [
    "def findMarker(chars, numChar):\n",
    "    numStr = []\n",
    "    strngs = []\n",
    "    for j in range(2, numChar + 1):\n",
    "        numStr.append(re.sub('a', '\\\\\\\\', '|'.join(['a' + str(i) for i in range(1, j)])))\n",
    "    for n in numStr:\n",
    "        strngs.append('(.)(?!' + str(n) + ')')\n",
    "    pat = ''.join(strngs)\n",
    "    m = re.search(str(pat), chars)\n",
    "    return m.end() + 1\n",
    "print('Part 1 Answer: ' + str(findMarker(raw, 4)))"
   ]
  },
  {
   "cell_type": "code",
   "execution_count": 161,
   "id": "44ae45e9",
   "metadata": {},
   "outputs": [
    {
     "name": "stdout",
     "output_type": "stream",
     "text": [
      "Part 2 Answer: 3716\n"
     ]
    }
   ],
   "source": [
    "print('Part 2 Answer: ' + str(findMarker(raw, 14)))"
   ]
  }
 ],
 "metadata": {
  "kernelspec": {
   "display_name": "Python 3 (ipykernel)",
   "language": "python",
   "name": "python3"
  },
  "language_info": {
   "codemirror_mode": {
    "name": "ipython",
    "version": 3
   },
   "file_extension": ".py",
   "mimetype": "text/x-python",
   "name": "python",
   "nbconvert_exporter": "python",
   "pygments_lexer": "ipython3",
   "version": "3.9.12"
  }
 },
 "nbformat": 4,
 "nbformat_minor": 5
}
